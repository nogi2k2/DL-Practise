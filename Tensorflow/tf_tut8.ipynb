{
 "cells": [
  {
   "cell_type": "code",
   "execution_count": 6,
   "metadata": {},
   "outputs": [],
   "source": [
    "import tensorflow as tf\n",
    "from tensorflow import keras\n",
    "import tensorflow.keras\n",
    "import tensorflow.keras.datasets as datasets\n",
    "from tensorflow.keras import layers\n",
    "from tensorflow.keras.models import Model, Sequential\n",
    "import os\n",
    "\n",
    "os.environ['TF_CPP_MIN_LOG_LEVEL'] = '2'"
   ]
  },
  {
   "cell_type": "code",
   "execution_count": 2,
   "metadata": {},
   "outputs": [],
   "source": [
    "physical_devices = tf.config.experimental.list_physical_devices('GPU')\n",
    "tf.config.experimental.set_memory_growth(physical_devices[0], enable = True)"
   ]
  },
  {
   "cell_type": "code",
   "execution_count": 4,
   "metadata": {},
   "outputs": [],
   "source": [
    "(x_train, y_train), (x_test, y_test) = datasets.mnist.load_data()\n",
    "x_train = x_train.reshape(-1, 28, 28, 1).astype('float32') / 255.0\n",
    "x_test = x_test.reshape(-1, 28, 28, 1).astype('float32') / 255.0"
   ]
  },
  {
   "cell_type": "code",
   "execution_count": 7,
   "metadata": {},
   "outputs": [
    {
     "name": "stdout",
     "output_type": "stream",
     "text": [
      "Model: \"model\"\n",
      "_________________________________________________________________\n",
      " Layer (type)                Output Shape              Param #   \n",
      "=================================================================\n",
      " input_1 (InputLayer)        [(None, 28, 28, 1)]       0         \n",
      "                                                                 \n",
      " conv2d (Conv2D)             (None, 28, 28, 64)        640       \n",
      "                                                                 \n",
      " re_lu (ReLU)                (None, 28, 28, 64)        0         \n",
      "                                                                 \n",
      " conv2d_1 (Conv2D)           (None, 28, 28, 128)       73856     \n",
      "                                                                 \n",
      " re_lu_1 (ReLU)              (None, 28, 28, 128)       0         \n",
      "                                                                 \n",
      " flatten (Flatten)           (None, 100352)            0         \n",
      "                                                                 \n",
      " dense (Dense)               (None, 10)                1003530   \n",
      "                                                                 \n",
      "=================================================================\n",
      "Total params: 1,078,026\n",
      "Trainable params: 1,078,026\n",
      "Non-trainable params: 0\n",
      "_________________________________________________________________\n",
      "None\n"
     ]
    }
   ],
   "source": [
    "inp = keras.Input(shape = (28, 28, 1))\n",
    "conv1 = layers.Conv2D(64, 3, padding = 'same')(inp)\n",
    "relu1 = layers.ReLU()(conv1)\n",
    "conv2 = layers.Conv2D(128, 3, padding = 'same')(relu1)\n",
    "relu2 = layers.ReLU()(conv2)\n",
    "flatten = layers.Flatten()(relu2)\n",
    "dense1 = layers.Dense(10)(flatten)\n",
    "\n",
    "model = Model(inputs = [inp, ], outputs = [dense1, ])\n",
    "print(model.summary())"
   ]
  },
  {
   "cell_type": "code",
   "execution_count": 28,
   "metadata": {},
   "outputs": [],
   "source": [
    "acc_metric = keras.metrics.SparseCategoricalAccuracy(name = \"Accuracy\")\n",
    "\n",
    "class CustomFit(keras.Model):\n",
    "    def __init__(self, model):\n",
    "        super(CustomFit, self).__init__()\n",
    "        self.model = model\n",
    "\n",
    "    def compile(self, optimizer, loss):\n",
    "        super(CustomFit, self).compile()\n",
    "        self.loss = loss\n",
    "        self.optimizer = optimizer\n",
    "\n",
    "    def train_step(self, data):\n",
    "        x, y = data\n",
    "\n",
    "        with tf.GradientTape() as tape:\n",
    "            y_pred = self.model(x, training = True)\n",
    "            # loss = self.compiled_loss(y, y_pred)\n",
    "            loss = self.loss(y, y_pred)\n",
    "        trainable_vars = self.trainable_variables\n",
    "        gradients = tape.gradient(loss, trainable_vars)\n",
    "        self.optimizer.apply_gradients(zip(gradients, trainable_vars))\n",
    "        # self.compiled_metrics.update_state(y, y_pred)\n",
    "        acc_metric.update_state(y, y_pred)\n",
    "\n",
    "        return {\"loss\": loss, \"accuracy\": acc_metric.result()}\n",
    "        # return {m.name: m.result() for m in self.metrics}\n",
    "\n",
    "    def test_step(self, data):\n",
    "        x, y = data\n",
    "\n",
    "        y_pred = self.model(x, training = False)\n",
    "        # loss  = self.compiled_loss(y, y_pred)\n",
    "        loss = self.loss(y, y_pred)\n",
    "        acc_metric.update_state(y, y_pred)\n",
    "\n",
    "        return {\"loss\": loss, \"accuracy\": acc_metric.result()}"
   ]
  },
  {
   "cell_type": "code",
   "execution_count": 31,
   "metadata": {},
   "outputs": [
    {
     "name": "stdout",
     "output_type": "stream",
     "text": [
      "Epoch 1/2\n",
      "1875/1875 [==============================] - 15s 8ms/step - loss: 0.0225 - accuracy: 0.9924\n",
      "Epoch 2/2\n",
      "1875/1875 [==============================] - 14s 8ms/step - loss: 0.0112 - accuracy: 0.9936\n",
      "313/313 - 1s - loss: 1.8812e-04 - accuracy: 0.9938 - 1s/epoch - 4ms/step\n"
     ]
    },
    {
     "data": {
      "text/plain": [
       "[0.9937752485275269, 0.00018812227062880993]"
      ]
     },
     "execution_count": 31,
     "metadata": {},
     "output_type": "execute_result"
    }
   ],
   "source": [
    "# model.fit(x_train, y_train, epochs = 10, verbose = 2, batch_size = 64)\n",
    "# model.evaluate(x_test, y_test, verbose = 2, batch_size = 2)\n",
    "\n",
    "history = CustomFit(model)\n",
    "history.compile(\n",
    "    loss = keras.losses.SparseCategoricalCrossentropy(from_logits = True),\n",
    "    optimizer = keras.optimizers.Adam(learning_rate = 0.001),\n",
    "    # metrics = ['accuracy'],\n",
    ")\n",
    "history.fit(x_train, y_train, epochs = 2, batch_size = 32)\n",
    "history.evaluate(x_test, y_test, batch_size = 32, verbose = 2)"
   ]
  }
 ],
 "metadata": {
  "kernelspec": {
   "display_name": "Python 3",
   "language": "python",
   "name": "python3"
  },
  "language_info": {
   "codemirror_mode": {
    "name": "ipython",
    "version": 3
   },
   "file_extension": ".py",
   "mimetype": "text/x-python",
   "name": "python",
   "nbconvert_exporter": "python",
   "pygments_lexer": "ipython3",
   "version": "3.10.0"
  }
 },
 "nbformat": 4,
 "nbformat_minor": 2
}
