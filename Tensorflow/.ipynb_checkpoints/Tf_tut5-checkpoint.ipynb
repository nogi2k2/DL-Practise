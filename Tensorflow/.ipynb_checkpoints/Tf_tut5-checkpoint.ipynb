{
 "cells": [
  {
   "cell_type": "code",
   "execution_count": 19,
   "id": "459e257b-4eef-4d49-8d26-522d25524e83",
   "metadata": {},
   "outputs": [],
   "source": [
    "import os\n",
    "import tensorflow as tf\n",
    "import tensorflow.keras as keras\n",
    "from tensorflow.keras.models import Model, Sequential\n",
    "from tensorflow.keras import layers, activations, regularizers\n",
    "from tensorflow.keras.datasets import mnist \n",
    "\n",
    "os.environ['TF_CPP_MIN_LOG_LEVEL'] = '2'"
   ]
  },
  {
   "cell_type": "code",
   "execution_count": 2,
   "id": "70798948-8dc8-46c8-8782-aa761289252c",
   "metadata": {},
   "outputs": [],
   "source": [
    "physical_devices = tf.config.experimental.list_physical_devices('GPU')\n",
    "tf.config.experimental.set_memory_growth(physical_devices[0], enable = True)"
   ]
  },
  {
   "cell_type": "code",
   "execution_count": 4,
   "id": "fb4beacd-a9b8-4b5f-b8be-6ca8a0d92b88",
   "metadata": {},
   "outputs": [],
   "source": [
    "(x_train, y_train), (x_test, y_test) = mnist.load_data()\n",
    "x_train = x_train.reshape(-1, 28, 28, 1).astype('float32')/255.0\n",
    "x_test = x_test.reshape(-1, 28, 28, 1).astype('float32')/255.0"
   ]
  },
  {
   "cell_type": "code",
   "execution_count": 6,
   "id": "a7d39a23-3c86-4594-b074-20a9cd4659a0",
   "metadata": {},
   "outputs": [],
   "source": [
    "class CNNBlock(layers.Layer):\n",
    "    def __init__(self, out_channels, kernel_size = 3):\n",
    "        super(CNNBlock, self).__init__()\n",
    "        self.conv1 = layers.Conv2D(out_channels, kernel_size, padding = 'same')\n",
    "        self.bn = layers.BatchNormalization()\n",
    "        \n",
    "    def call(self, input_tensor, training = False):\n",
    "        x = self.conv1(input_tensor)\n",
    "        x = self.bn(x, training = training)\n",
    "        x = tf.nn.relu(x)\n",
    "        return x"
   ]
  },
  {
   "cell_type": "code",
   "execution_count": 17,
   "id": "56a7acab-5b94-4852-8b26-6ec63315d32e",
   "metadata": {},
   "outputs": [
    {
     "name": "stdout",
     "output_type": "stream",
     "text": [
      "Model: \"model_2\"\n",
      "_________________________________________________________________\n",
      " Layer (type)                Output Shape              Param #   \n",
      "=================================================================\n",
      " input_4 (InputLayer)        [(None, 28, 28, 1)]       0         \n",
      "                                                                 \n",
      " cnn_block_11 (CNNBlock)     (None, 28, 28, 32)        448       \n",
      "                                                                 \n",
      " cnn_block_12 (CNNBlock)     (None, 28, 28, 64)        18752     \n",
      "                                                                 \n",
      " cnn_block_13 (CNNBlock)     (None, 28, 28, 128)       74368     \n",
      "                                                                 \n",
      " flatten_3 (Flatten)         (None, 100352)            0         \n",
      "                                                                 \n",
      " dense_2 (Dense)             (None, 10)                1003530   \n",
      "                                                                 \n",
      "=================================================================\n",
      "Total params: 1,097,098\n",
      "Trainable params: 1,096,650\n",
      "Non-trainable params: 448\n",
      "_________________________________________________________________\n",
      "None\n"
     ]
    }
   ],
   "source": [
    "inp = tf.keras.Input(shape = (28,28,1))\n",
    "conv1 = CNNBlock(32)(inp)\n",
    "conv2 = CNNBlock(64)(conv1)\n",
    "conv3 = CNNBlock(128)(conv2)\n",
    "flatten = layers.Flatten()(conv3)\n",
    "dense = layers.Dense(10)(flatten)\n",
    "\n",
    "model = Model(inputs = [inp], outputs = [dense])\n",
    "print(model.summary())"
   ]
  },
  {
   "cell_type": "code",
   "execution_count": 20,
   "id": "0f5e21cc-6520-4a6e-9a78-8456538cebc9",
   "metadata": {},
   "outputs": [],
   "source": [
    "model.compile(\n",
    "    loss = keras.losses.SparseCategoricalCrossentropy(from_logits = True),\n",
    "    optimizer = keras.optimizers.Adam(),\n",
    "    metrics = ['accuracy']\n",
    ")"
   ]
  },
  {
   "cell_type": "code",
   "execution_count": 23,
   "id": "1d0e380d-9df5-4fc4-9a0a-cc242b7d0cf6",
   "metadata": {},
   "outputs": [
    {
     "name": "stdout",
     "output_type": "stream",
     "text": [
      "Epoch 1/3\n",
      "938/938 - 16s - loss: 0.0277 - accuracy: 0.9912 - 16s/epoch - 17ms/step\n",
      "Epoch 2/3\n",
      "938/938 - 15s - loss: 0.0242 - accuracy: 0.9923 - 15s/epoch - 16ms/step\n",
      "Epoch 3/3\n",
      "938/938 - 15s - loss: 0.0222 - accuracy: 0.9923 - 15s/epoch - 16ms/step\n",
      "157/157 - 1s - loss: 0.0423 - accuracy: 0.9873 - 1s/epoch - 8ms/step\n"
     ]
    },
    {
     "data": {
      "text/plain": [
       "[0.04232215881347656, 0.9872999787330627]"
      ]
     },
     "execution_count": 23,
     "metadata": {},
     "output_type": "execute_result"
    }
   ],
   "source": [
    "model.fit(x_train, y_train, batch_size = 64, verbose = 2, epochs = 3)\n",
    "model.evaluate(x_test, y_test, batch_size = 64, verbose = 2)"
   ]
  },
  {
   "cell_type": "code",
   "execution_count": 29,
   "id": "2c2a1023-8f7f-4520-ac7d-9a72adf8027a",
   "metadata": {},
   "outputs": [],
   "source": [
    "class ResBlock(layers.Layer):\n",
    "    def __init__(self, channels):\n",
    "        super(ResBlock, self).__init__()\n",
    "        self.conv1 = CNNBlock(channels[0])\n",
    "        self.conv2 = CNNBlock(channels[1])\n",
    "        self.conv3 = CNNBlock(channels[2])\n",
    "        self.pool1 = layers.MaxPooling2D()\n",
    "        self.identity = layers.Conv2D(channels[1], 1, padding = 'same')\n",
    "\n",
    "    def call(self, input_tensor, training = False):\n",
    "        op1 = self.conv1(input_tensor, training = training)\n",
    "        op2 = self.conv2(op1, training = training)\n",
    "        op3 = self.conv3(op2 + self.identity(input_tensor), training = training) \n",
    "        pool = self.pool1(op3)\n",
    "        \n",
    "        return pool"
   ]
  },
  {
   "cell_type": "code",
   "execution_count": 32,
   "id": "67f92c3c-d113-4bd1-869b-35676adaae7a",
   "metadata": {},
   "outputs": [
    {
     "name": "stdout",
     "output_type": "stream",
     "text": [
      "Model: \"model_3\"\n",
      "_________________________________________________________________\n",
      " Layer (type)                Output Shape              Param #   \n",
      "=================================================================\n",
      " input_10 (InputLayer)       [(None, 28, 28, 1)]       0         \n",
      "                                                                 \n",
      " res_block_7 (ResBlock)      (None, 14, 14, 128)       47392     \n",
      "                                                                 \n",
      " res_block_8 (ResBlock)      (None, 7, 7, 256)         608896    \n",
      "                                                                 \n",
      " res_block_9 (ResBlock)      (None, 3, 3, 512)         1839744   \n",
      "                                                                 \n",
      " global_average_pooling2d (G  (None, 512)              0         \n",
      " lobalAveragePooling2D)                                          \n",
      "                                                                 \n",
      " dense_3 (Dense)             (None, 10)                5130      \n",
      "                                                                 \n",
      "=================================================================\n",
      "Total params: 2,501,162\n",
      "Trainable params: 2,497,962\n",
      "Non-trainable params: 3,200\n",
      "_________________________________________________________________\n",
      "None\n"
     ]
    }
   ],
   "source": [
    "channels1 = [32, 32, 128]\n",
    "channels2 = [128, 128, 256]\n",
    "channels3 = [128, 256, 512]\n",
    "\n",
    "inp = keras.Input(shape = (28, 28, 1))\n",
    "res1 = ResBlock(channels1)(inp)\n",
    "res2 = ResBlock(channels2)(res1)\n",
    "res3 = ResBlock(channels3)(res2)\n",
    "gap = layers.GlobalAveragePooling2D()(res3)\n",
    "# flatten = layers.Flatten(gap)\n",
    "dense = layers.Dense(10)(gap)\n",
    "\n",
    "model = Model(inputs = [inp, ], outputs = [dense, ])\n",
    "print(model.summary())"
   ]
  },
  {
   "cell_type": "code",
   "execution_count": 36,
   "id": "12969f3f-0ac9-4682-a005-0d99fb383bb6",
   "metadata": {},
   "outputs": [],
   "source": [
    "model.compile(\n",
    "    loss = keras.losses.SparseCategoricalCrossentropy(from_logits = True),\n",
    "    optimizer = keras.optimizers.Adam(),\n",
    "    metrics = ['accuracy']\n",
    ")"
   ]
  },
  {
   "cell_type": "code",
   "execution_count": 37,
   "id": "c5c9da91-7952-43f3-a98b-ff881c011741",
   "metadata": {},
   "outputs": [
    {
     "name": "stdout",
     "output_type": "stream",
     "text": [
      "938/938 - 42s - loss: 0.0851 - accuracy: 0.9747 - 42s/epoch - 45ms/step\n",
      "157/157 - 3s - loss: 0.0599 - accuracy: 0.9818 - 3s/epoch - 19ms/step\n"
     ]
    },
    {
     "data": {
      "text/plain": [
       "[0.059908293187618256, 0.9818000197410583]"
      ]
     },
     "execution_count": 37,
     "metadata": {},
     "output_type": "execute_result"
    }
   ],
   "source": [
    "model.fit(x_train, y_train, epochs = 1, verbose = 2, batch_size = 64)\n",
    "model.evaluate(x_test, y_test, verbose = 2, batch_size = 64)"
   ]
  },
  {
   "cell_type": "code",
   "execution_count": 47,
   "id": "9f4dad75-5627-4332-b5c8-54266b8c9799",
   "metadata": {},
   "outputs": [],
   "source": [
    "(x_train, y_train), (x_test, y_test) = mnist.load_data()\n",
    "x_train = x_train.reshape(-1, 28 * 28).astype('float32')/255.0\n",
    "x_test = x_test.reshape(-1, 28 * 28).astype('float32')/255.0"
   ]
  },
  {
   "cell_type": "code",
   "execution_count": 58,
   "id": "4f34d9c1-5f78-4199-9efb-e7b0eeaeed7c",
   "metadata": {},
   "outputs": [],
   "source": [
    "class CustomLayer(layers.Layer):\n",
    "    def __init__(self, output_dim, input_dim):\n",
    "        super(CustomLayer, self).__init__()\n",
    "        self.w = self.add_weight(\n",
    "            name = 'weight-x',\n",
    "            shape = (input_dim, output_dim),\n",
    "            initializer = 'random_normal',\n",
    "            trainable = True,\n",
    "        )\n",
    "        self.b = self.add_weight(\n",
    "            name = 'bias-x',\n",
    "            shape = (output_dim, ),\n",
    "            initializer = 'zeros',\n",
    "            trainable = True,\n",
    "        )\n",
    "    def call(self, input_tensor):\n",
    "        op = tf.matmul(input_tensor, self.w) + self.b\n",
    "        return op"
   ]
  },
  {
   "cell_type": "code",
   "execution_count": 60,
   "id": "428f075b-cfb8-410d-866e-31b742890b6d",
   "metadata": {},
   "outputs": [],
   "source": [
    "class CustomModel(keras.Model):\n",
    "    def __init__(self, num_classes = 10):\n",
    "        super(CustomModel, self).__init__()\n",
    "        self.dense1 = CustomLayer(64, 784)\n",
    "        self.dense2 = CustomLayer(num_classes, 64)\n",
    "\n",
    "    def call(self, input_tensor):\n",
    "        layer1 = tf.nn.relu(self.dense1(input_tensor))\n",
    "        return self.dense2(layer1)"
   ]
  },
  {
   "cell_type": "code",
   "execution_count": 61,
   "id": "5fbe5165-13b1-4b9f-a94d-89951f0d2687",
   "metadata": {},
   "outputs": [
    {
     "name": "stdout",
     "output_type": "stream",
     "text": [
      "1875/1875 - 4s - loss: 0.3425 - accuracy: 0.9062 - 4s/epoch - 2ms/step\n",
      "313/313 - 1s - loss: 0.1904 - accuracy: 0.9425 - 716ms/epoch - 2ms/step\n"
     ]
    },
    {
     "data": {
      "text/plain": [
       "[0.19037021696567535, 0.9424999952316284]"
      ]
     },
     "execution_count": 61,
     "metadata": {},
     "output_type": "execute_result"
    }
   ],
   "source": [
    "model_custom = CustomModel()\n",
    "model_custom.compile(\n",
    "    loss = keras.losses.SparseCategoricalCrossentropy(from_logits = True),\n",
    "    optimizer = keras.optimizers.Adam(),\n",
    "    metrics = ['accuracy'],\n",
    ")\n",
    "\n",
    "model_custom.fit(x_train, y_train, verbose = 2, batch_size = 32, epochs = 1)\n",
    "model_custom.evaluate(x_test, y_test, verbose = 2, batch_size = 32)"
   ]
  },
  {
   "cell_type": "markdown",
   "id": "ef5b31ff-c927-4792-ae84-7a7546324414",
   "metadata": {},
   "source": [
    "Saving and Loading Model (Serialization of Model - saved as a data structure) and Model weights\n",
    "\n",
    "Saving the model also saves the:\n",
    "1. Model Weigths\n",
    "2. Model Architecture\n",
    "3. Training Configuration (The configs the model was compiled with)\n",
    "4. Optimizer and states"
   ]
  },
  {
   "cell_type": "code",
   "execution_count": 63,
   "id": "b1dc3c28-aae8-440c-a436-0e8ad776ab63",
   "metadata": {},
   "outputs": [],
   "source": [
    "# Sequential model saves work only with Sequential and Functional model saves work only with Functional model.\n",
    "\n",
    "# model.save__weights('saved_model/', save_format = 'h5')\n",
    "# model = model.load_weights('saved_model/')"
   ]
  },
  {
   "cell_type": "code",
   "execution_count": 64,
   "id": "a22e11e4-0c9e-4ec6-b2c7-ae3bc5f95a22",
   "metadata": {},
   "outputs": [],
   "source": [
    "#Saving the entire model with all configs: \n",
    "# (Works with Sequential, Functional and Subclassing)\n",
    "\n",
    "# model.save('entire_saved_model/')\n",
    "# model = keras.models.load_model('entire_saved_model/')"
   ]
  },
  {
   "cell_type": "code",
   "execution_count": null,
   "id": "d965b0e6-43c7-48c7-a02f-cd60b05aad08",
   "metadata": {},
   "outputs": [],
   "source": []
  },
  {
   "cell_type": "code",
   "execution_count": null,
   "id": "e1e7d09c-63a1-48b8-bebd-351e8eb45bc7",
   "metadata": {},
   "outputs": [],
   "source": []
  },
  {
   "cell_type": "code",
   "execution_count": null,
   "id": "2cfd9e8e-d4da-4dea-8160-8dcba90f07ea",
   "metadata": {},
   "outputs": [],
   "source": []
  },
  {
   "cell_type": "code",
   "execution_count": null,
   "id": "6cbcea4d-9ab4-4dd6-b941-813636b7e7dc",
   "metadata": {},
   "outputs": [],
   "source": []
  },
  {
   "cell_type": "code",
   "execution_count": null,
   "id": "1faa43d9-62cc-416c-b8bd-a743fcee94f3",
   "metadata": {},
   "outputs": [],
   "source": []
  },
  {
   "cell_type": "code",
   "execution_count": null,
   "id": "1f548a81-40ef-4b34-a27f-c68732185a3a",
   "metadata": {},
   "outputs": [],
   "source": []
  },
  {
   "cell_type": "code",
   "execution_count": null,
   "id": "342d546e-5bce-4c4b-9e9a-103d10085869",
   "metadata": {},
   "outputs": [],
   "source": []
  },
  {
   "cell_type": "code",
   "execution_count": null,
   "id": "1f364b54-3215-445d-ace3-dcb5c60f9084",
   "metadata": {},
   "outputs": [],
   "source": []
  },
  {
   "cell_type": "code",
   "execution_count": null,
   "id": "e4b8e266-5c1c-4afc-806b-77b76627020a",
   "metadata": {},
   "outputs": [],
   "source": []
  },
  {
   "cell_type": "code",
   "execution_count": null,
   "id": "4c442854-07cc-4246-a3b7-6c980ced0fa7",
   "metadata": {},
   "outputs": [],
   "source": []
  }
 ],
 "metadata": {
  "kernelspec": {
   "display_name": "Python 3 (ipykernel)",
   "language": "python",
   "name": "python3"
  },
  "language_info": {
   "codemirror_mode": {
    "name": "ipython",
    "version": 3
   },
   "file_extension": ".py",
   "mimetype": "text/x-python",
   "name": "python",
   "nbconvert_exporter": "python",
   "pygments_lexer": "ipython3",
   "version": "3.10.0"
  }
 },
 "nbformat": 4,
 "nbformat_minor": 5
}
