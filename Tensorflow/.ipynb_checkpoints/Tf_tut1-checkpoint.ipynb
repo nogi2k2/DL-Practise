{
 "cells": [
  {
   "cell_type": "code",
   "execution_count": 2,
   "id": "82047f72-8b3f-45a8-a7d5-3ff3dfb36226",
   "metadata": {},
   "outputs": [],
   "source": [
    "import tensorflow as tf\n",
    "import os\n",
    "\n",
    "os.environ['TF_CPP_MIN_LOG_LEVEL'] = '2'"
   ]
  },
  {
   "cell_type": "code",
   "execution_count": 51,
   "id": "9cc9b97b-ff3d-492d-bc17-6b50c801d93a",
   "metadata": {},
   "outputs": [
    {
     "ename": "RuntimeError",
     "evalue": "Physical devices cannot be modified after being initialized",
     "output_type": "error",
     "traceback": [
      "\u001b[1;31m---------------------------------------------------------------------------\u001b[0m",
      "\u001b[1;31mRuntimeError\u001b[0m                              Traceback (most recent call last)",
      "Cell \u001b[1;32mIn[51], line 2\u001b[0m\n\u001b[0;32m      1\u001b[0m physical_devices \u001b[38;5;241m=\u001b[39m tf\u001b[38;5;241m.\u001b[39mconfig\u001b[38;5;241m.\u001b[39mexperimental\u001b[38;5;241m.\u001b[39mlist_physical_devices(\u001b[38;5;124m'\u001b[39m\u001b[38;5;124mGPU\u001b[39m\u001b[38;5;124m'\u001b[39m)\n\u001b[1;32m----> 2\u001b[0m \u001b[43mtf\u001b[49m\u001b[38;5;241;43m.\u001b[39;49m\u001b[43mconfig\u001b[49m\u001b[38;5;241;43m.\u001b[39;49m\u001b[43mexperimental\u001b[49m\u001b[38;5;241;43m.\u001b[39;49m\u001b[43mset_memory_growth\u001b[49m\u001b[43m(\u001b[49m\u001b[43mphysical_devices\u001b[49m\u001b[43m[\u001b[49m\u001b[38;5;241;43m0\u001b[39;49m\u001b[43m]\u001b[49m\u001b[43m,\u001b[49m\u001b[43m \u001b[49m\u001b[38;5;28;43;01mTrue\u001b[39;49;00m\u001b[43m)\u001b[49m\n",
      "File \u001b[1;32m~\\AppData\\Local\\Programs\\Python\\Python310\\lib\\site-packages\\tensorflow\\python\\framework\\config.py:716\u001b[0m, in \u001b[0;36mset_memory_growth\u001b[1;34m(device, enable)\u001b[0m\n\u001b[0;32m    691\u001b[0m \u001b[38;5;129m@tf_export\u001b[39m(\u001b[38;5;124m'\u001b[39m\u001b[38;5;124mconfig.experimental.set_memory_growth\u001b[39m\u001b[38;5;124m'\u001b[39m)\n\u001b[0;32m    692\u001b[0m \u001b[38;5;28;01mdef\u001b[39;00m\u001b[38;5;250m \u001b[39m\u001b[38;5;21mset_memory_growth\u001b[39m(device, enable):\n\u001b[0;32m    693\u001b[0m \u001b[38;5;250m  \u001b[39m\u001b[38;5;124;03m\"\"\"Set if memory growth should be enabled for a `PhysicalDevice`.\u001b[39;00m\n\u001b[0;32m    694\u001b[0m \n\u001b[0;32m    695\u001b[0m \u001b[38;5;124;03m  If memory growth is enabled for a `PhysicalDevice`, the runtime initialization\u001b[39;00m\n\u001b[1;32m   (...)\u001b[0m\n\u001b[0;32m    714\u001b[0m \u001b[38;5;124;03m    RuntimeError: Runtime is already initialized.\u001b[39;00m\n\u001b[0;32m    715\u001b[0m \u001b[38;5;124;03m  \"\"\"\u001b[39;00m\n\u001b[1;32m--> 716\u001b[0m   \u001b[43mcontext\u001b[49m\u001b[38;5;241;43m.\u001b[39;49m\u001b[43mcontext\u001b[49m\u001b[43m(\u001b[49m\u001b[43m)\u001b[49m\u001b[38;5;241;43m.\u001b[39;49m\u001b[43mset_memory_growth\u001b[49m\u001b[43m(\u001b[49m\u001b[43mdevice\u001b[49m\u001b[43m,\u001b[49m\u001b[43m \u001b[49m\u001b[43menable\u001b[49m\u001b[43m)\u001b[49m\n",
      "File \u001b[1;32m~\\AppData\\Local\\Programs\\Python\\Python310\\lib\\site-packages\\tensorflow\\python\\eager\\context.py:1666\u001b[0m, in \u001b[0;36mContext.set_memory_growth\u001b[1;34m(self, dev, enable)\u001b[0m\n\u001b[0;32m   1663\u001b[0m   \u001b[38;5;28;01mreturn\u001b[39;00m\n\u001b[0;32m   1665\u001b[0m \u001b[38;5;28;01mif\u001b[39;00m \u001b[38;5;28mself\u001b[39m\u001b[38;5;241m.\u001b[39m_context_handle \u001b[38;5;129;01mis\u001b[39;00m \u001b[38;5;129;01mnot\u001b[39;00m \u001b[38;5;28;01mNone\u001b[39;00m:\n\u001b[1;32m-> 1666\u001b[0m   \u001b[38;5;28;01mraise\u001b[39;00m \u001b[38;5;167;01mRuntimeError\u001b[39;00m(\n\u001b[0;32m   1667\u001b[0m       \u001b[38;5;124m\"\u001b[39m\u001b[38;5;124mPhysical devices cannot be modified after being initialized\u001b[39m\u001b[38;5;124m\"\u001b[39m)\n\u001b[0;32m   1669\u001b[0m \u001b[38;5;28mself\u001b[39m\u001b[38;5;241m.\u001b[39m_memory_growth_map[dev] \u001b[38;5;241m=\u001b[39m enable\n",
      "\u001b[1;31mRuntimeError\u001b[0m: Physical devices cannot be modified after being initialized"
     ]
    }
   ],
   "source": [
    "physical_devices = tf.config.experimental.list_physical_devices('GPU')\n",
    "tf.config.experimental.set_memory_growth(physical_devices[0], True)"
   ]
  },
  {
   "cell_type": "code",
   "execution_count": 5,
   "id": "a98ef3c5-6151-4467-8e25-fa4c2fcbc6ba",
   "metadata": {},
   "outputs": [
    {
     "name": "stdout",
     "output_type": "stream",
     "text": [
      "tf.Tensor([[4.]], shape=(1, 1), dtype=float32)\n"
     ]
    }
   ],
   "source": [
    "x= tf.constant(4, shape = (1,1), dtype = tf.float32)\n",
    "print(x)"
   ]
  },
  {
   "cell_type": "code",
   "execution_count": 8,
   "id": "32e70e79-caf3-4d28-bda5-979c92abb9f6",
   "metadata": {},
   "outputs": [
    {
     "name": "stdout",
     "output_type": "stream",
     "text": [
      "tf.Tensor(\n",
      "[[1. 2.]\n",
      " [3. 4.]\n",
      " [5. 6.]], shape=(3, 2), dtype=float32)\n"
     ]
    }
   ],
   "source": [
    "xmat = tf.constant([[1,2,3],[4,5,6]], shape = (3,2), dtype = tf.float32)\n",
    "print(xmat)"
   ]
  },
  {
   "cell_type": "code",
   "execution_count": 13,
   "id": "03ceff7d-64b6-4763-8895-e523da8c9445",
   "metadata": {},
   "outputs": [
    {
     "name": "stdout",
     "output_type": "stream",
     "text": [
      "tf.Tensor([[1. 1. 1. 1. 1. 1. 1. 1. 1.]], shape=(1, 9), dtype=float32)\n"
     ]
    }
   ],
   "source": [
    "xidentity = tf.ones((3,3), dtype = tf.float32)\n",
    "xidentity = tf.reshape(xidentity, shape = (1,9))\n",
    "print(xidentity)"
   ]
  },
  {
   "cell_type": "code",
   "execution_count": 15,
   "id": "1b0bb3f9-1531-4ca4-934f-0afc3fc3e048",
   "metadata": {},
   "outputs": [
    {
     "name": "stdout",
     "output_type": "stream",
     "text": [
      "xactual_identity: [[1. 0. 0. 0. 1. 0. 0. 0. 1.]]\n",
      "xzeros: [[0. 0. 0. 0. 0. 0. 0. 0. 0.]]\n"
     ]
    }
   ],
   "source": [
    "xactual_identity = tf.eye(3)\n",
    "xactual_identity = tf.reshape(xactual_identity, shape = (1,9))\n",
    "xzeros = tf.zeros((3,3))\n",
    "xzeros = tf.reshape(xzeros, shape = (1,9))\n",
    "print(f\"xactual_identity: {xactual_identity}\\nxzeros: {xzeros}\")"
   ]
  },
  {
   "cell_type": "code",
   "execution_count": 18,
   "id": "c709d8aa-adac-45c3-b7e4-d93d66572c28",
   "metadata": {},
   "outputs": [
    {
     "name": "stdout",
     "output_type": "stream",
     "text": [
      "random_normal: [[-2.0591533  -0.32546562  0.46771595  0.3919695  -0.81320745  0.8917996\n",
      "   1.0989972   2.5029542   0.02149982]]\n",
      "uniform: [[0.9507055  0.60442495 0.14110386 0.2634362  0.08869493 0.14640057\n",
      "  0.19124317 0.5172508  0.3982885 ]]\n"
     ]
    }
   ],
   "source": [
    "random_normal = tf.random.normal((3,3), mean = 0, stddev = 1)\n",
    "random_normal = tf.reshape(random_normal, shape = (1,9))\n",
    "uniform = tf.random.uniform((3,3), minval = 0, maxval = 1)\n",
    "uniform = tf.reshape(uniform, shape = (1, 9))\n",
    "print(f\"random_normal: {random_normal}\\nuniform: {uniform}\")"
   ]
  },
  {
   "cell_type": "code",
   "execution_count": 27,
   "id": "bbb9d191-5d54-4b6b-9b84-43a727663a59",
   "metadata": {},
   "outputs": [
    {
     "name": "stdout",
     "output_type": "stream",
     "text": [
      "tf.Tensor(\n",
      "[[0 1 2]\n",
      " [3 4 5]\n",
      " [6 7 8]], shape=(3, 3), dtype=int32)\n"
     ]
    }
   ],
   "source": [
    "xrange = tf.range(9)\n",
    "#xrange = tf.range(start, limit)\n",
    "xrange = tf.reshape(xrange, shape = (3,3))\n",
    "print(xrange)"
   ]
  },
  {
   "cell_type": "code",
   "execution_count": 25,
   "id": "f1d64e4d-e3e9-4070-add2-d719af139a02",
   "metadata": {},
   "outputs": [
    {
     "name": "stdout",
     "output_type": "stream",
     "text": [
      "tf.Tensor(\n",
      "[[0. 1. 2.]\n",
      " [3. 4. 5.]\n",
      " [6. 7. 8.]], shape=(3, 3), dtype=float64)\n"
     ]
    }
   ],
   "source": [
    "xrange = tf.cast(xrange, dtype = tf.float64)\n",
    "print(xrange)"
   ]
  },
  {
   "cell_type": "code",
   "execution_count": 44,
   "id": "948072b2-e5b7-4b4f-94ca-03abf7b214cf",
   "metadata": {},
   "outputs": [
    {
     "name": "stdout",
     "output_type": "stream",
     "text": [
      "tf.Tensor([5 7 9], shape=(3,), dtype=int32)\n",
      "tf.Tensor([-3 -3 -3], shape=(3,), dtype=int32)\n",
      "tf.Tensor([ 4 10 18], shape=(3,), dtype=int32)\n",
      "tf.Tensor(32, shape=(), dtype=int32)\n",
      "tf.Tensor([0.25 0.4  0.5 ], shape=(3,), dtype=float64)\n",
      "tf.Tensor([ 8 20 36], shape=(3,), dtype=int32)\n"
     ]
    }
   ],
   "source": [
    "x1 = tf.constant([1,2,3])\n",
    "x2 = tf.constant([4,5,6])\n",
    "x3 = tf.constant([[1,2,3],[4,5,6]])\n",
    "x4 = tf.constant([[4,5,6],[1,2,3]])\n",
    "print(x1 + x2)\n",
    "print(x1 - x2)\n",
    "print(x1 * x2)\n",
    "print(tf.tensordot(x1, x2, axes = 1))\n",
    "print(x1 / x2)\n",
    "print(tf.reduce_sum(x3*x4, axis = 0))"
   ]
  },
  {
   "cell_type": "code",
   "execution_count": 47,
   "id": "3c7ee2f2-c0e2-438e-9301-2ad769e3b82b",
   "metadata": {},
   "outputs": [
    {
     "name": "stdout",
     "output_type": "stream",
     "text": [
      "tf.Tensor([  1  32 243], shape=(3,), dtype=int32)\n"
     ]
    }
   ],
   "source": [
    "xrand = tf.constant([1,2,3])\n",
    "print(xrand ** 5)"
   ]
  },
  {
   "cell_type": "code",
   "execution_count": 50,
   "id": "16839400-60f5-4bdb-8a2c-4289753b76ed",
   "metadata": {},
   "outputs": [
    {
     "name": "stdout",
     "output_type": "stream",
     "text": [
      "tf.Tensor([[19 22 43 50]], shape=(1, 4), dtype=int32)\n"
     ]
    }
   ],
   "source": [
    "xrand1 = tf.constant([[1,2],[3,4]])\n",
    "xrand2 = tf.constant([[5,6],[7,8]])\n",
    "xmatmul = tf.reshape(xrand1 @ xrand2, shape = (1,4))\n",
    "print(xmatmul)"
   ]
  },
  {
   "cell_type": "code",
   "execution_count": 52,
   "id": "26b24b25-c318-45ed-b652-a23aa13c760a",
   "metadata": {},
   "outputs": [
    {
     "name": "stdout",
     "output_type": "stream",
     "text": [
      "tf.Tensor([1 2], shape=(2,), dtype=int32)\n"
     ]
    }
   ],
   "source": [
    "xrange1 = tf.range(9)\n",
    "indices = tf.constant([1,2])\n",
    "print(tf.gather(xrange1, indices))"
   ]
  }
 ],
 "metadata": {
  "kernelspec": {
   "display_name": "Python 3 (ipykernel)",
   "language": "python",
   "name": "python3"
  },
  "language_info": {
   "codemirror_mode": {
    "name": "ipython",
    "version": 3
   },
   "file_extension": ".py",
   "mimetype": "text/x-python",
   "name": "python",
   "nbconvert_exporter": "python",
   "pygments_lexer": "ipython3",
   "version": "3.10.0"
  }
 },
 "nbformat": 4,
 "nbformat_minor": 5
}
