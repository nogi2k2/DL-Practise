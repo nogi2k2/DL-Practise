{
 "cells": [
  {
   "cell_type": "code",
   "execution_count": 1,
   "id": "6b35c3b3-6f51-44a9-85d5-e04d80f0d132",
   "metadata": {},
   "outputs": [],
   "source": [
    "import tensorflow as tf\n",
    "from tensorflow import keras\n",
    "from tensorflow.keras import layers\n",
    "from tensorflow.keras.models import Model \n",
    "import os\n",
    "\n",
    "os.environ['TF_CPP_MIN_LOG_LEVEL'] = '2'"
   ]
  },
  {
   "cell_type": "code",
   "execution_count": 2,
   "id": "d40fb850-e3e4-4224-9a17-ff3666905a36",
   "metadata": {},
   "outputs": [],
   "source": [
    "physical_devices = tf.config.experimental.list_physical_devices('GPU')\n",
    "tf.config.experimental.set_memory_growth(physical_devices[0], enable = True)"
   ]
  },
  {
   "cell_type": "code",
   "execution_count": 6,
   "id": "c80f37fb-1997-460d-97a6-f1f439e2244a",
   "metadata": {},
   "outputs": [
    {
     "name": "stdout",
     "output_type": "stream",
     "text": [
      "(50000, 32, 32, 3) (50000, 1)\n",
      "(10000, 32, 32, 3) (10000, 1)\n"
     ]
    }
   ],
   "source": [
    "from tensorflow.keras.datasets import cifar10\n",
    "\n",
    "(x_train, y_train), (x_test, y_test) = cifar10.load_data()\n",
    "print(x_train.shape, y_train.shape)\n",
    "print(x_test.shape, y_test.shape)"
   ]
  },
  {
   "cell_type": "code",
   "execution_count": 7,
   "id": "b17d77ed-6c83-45f7-a283-c6ab306f42d3",
   "metadata": {},
   "outputs": [],
   "source": [
    "x_train = x_train.astype(\"float32\")/255.0\n",
    "x_test = x_test.astype(\"float32\")/255.0"
   ]
  },
  {
   "cell_type": "code",
   "execution_count": 11,
   "id": "889e7776-2f6c-481c-931a-940d04849391",
   "metadata": {},
   "outputs": [
    {
     "name": "stdout",
     "output_type": "stream",
     "text": [
      "Model: \"model\"\n",
      "_________________________________________________________________\n",
      " Layer (type)                Output Shape              Param #   \n",
      "=================================================================\n",
      " input_3 (InputLayer)        [(None, 32, 32, 3)]       0         \n",
      "                                                                 \n",
      " conv2d_4 (Conv2D)           (None, 30, 30, 32)        896       \n",
      "                                                                 \n",
      " max_pooling2d_2 (MaxPooling  (None, 15, 15, 32)       0         \n",
      " 2D)                                                             \n",
      "                                                                 \n",
      " conv2d_5 (Conv2D)           (None, 13, 13, 64)        18496     \n",
      "                                                                 \n",
      " max_pooling2d_3 (MaxPooling  (None, 6, 6, 64)         0         \n",
      " 2D)                                                             \n",
      "                                                                 \n",
      " conv2d_6 (Conv2D)           (None, 4, 4, 128)         73856     \n",
      "                                                                 \n",
      " flatten (Flatten)           (None, 2048)              0         \n",
      "                                                                 \n",
      " dense (Dense)               (None, 64)                131136    \n",
      "                                                                 \n",
      " dense_1 (Dense)             (None, 10)                650       \n",
      "                                                                 \n",
      "=================================================================\n",
      "Total params: 225,034\n",
      "Trainable params: 225,034\n",
      "Non-trainable params: 0\n",
      "_________________________________________________________________\n",
      "None\n"
     ]
    },
    {
     "name": "stderr",
     "output_type": "stream",
     "text": [
      "C:\\Users\\Nogi2\\AppData\\Local\\Programs\\Python\\Python310\\lib\\site-packages\\keras\\optimizers\\optimizer_v2\\adam.py:114: UserWarning: The `lr` argument is deprecated, use `learning_rate` instead.\n",
      "  super().__init__(name, **kwargs)\n"
     ]
    }
   ],
   "source": [
    "inputs = keras.Input((32,32,3))\n",
    "conv1 = layers.Conv2D(32, 3, padding = 'valid', activation = 'relu')(inputs)\n",
    "# conv1 = layers.Conv2D(32, 3, padding = 'valid')(inputs)\n",
    "#BatchNorm = layers.BatchNormalization()(conv1)\n",
    "#activation1 = keras.activations.relu(BatchNorm)\n",
    "mp1 = layers.MaxPooling2D(pool_size = (2,2))(conv1)\n",
    "conv2 = layers.Conv2D(64, 3, activation = 'relu')(mp1)\n",
    "mp2 = layers.MaxPooling2D(pool_size = (2,2))(conv2)\n",
    "conv3 = layers.Conv2D(128, 3, activation = 'relu')(mp2)\n",
    "flatten = layers.Flatten()(conv3)\n",
    "dense1 = layers.Dense(64, activation = 'relu')(flatten)\n",
    "op = layers.Dense(10)(dense1)\n",
    "\n",
    "model_functional = Model(inputs = [inputs, ], outputs = [op, ])\n",
    "model_functional.compile(\n",
    "    loss = keras.losses.SparseCategoricalCrossentropy(from_logits = True),\n",
    "    optimizer = keras.optimizers.Adam(lr = 3e-4),\n",
    "    metrics = ['accuracy'],\n",
    ")\n",
    "\n",
    "print(model_functional.summary())"
   ]
  },
  {
   "cell_type": "code",
   "execution_count": 13,
   "id": "2b0b4f2f-f38d-4fb4-b87f-2bb81c3b7ca5",
   "metadata": {},
   "outputs": [
    {
     "name": "stdout",
     "output_type": "stream",
     "text": [
      "Epoch 1/10\n",
      "782/782 - 15s - loss: 1.6571 - accuracy: 0.3967 - 15s/epoch - 20ms/step\n",
      "Epoch 2/10\n",
      "782/782 - 3s - loss: 1.3348 - accuracy: 0.5213 - 3s/epoch - 4ms/step\n",
      "Epoch 3/10\n",
      "782/782 - 3s - loss: 1.1943 - accuracy: 0.5796 - 3s/epoch - 4ms/step\n",
      "Epoch 4/10\n",
      "782/782 - 3s - loss: 1.0856 - accuracy: 0.6190 - 3s/epoch - 4ms/step\n",
      "Epoch 5/10\n",
      "782/782 - 3s - loss: 1.0133 - accuracy: 0.6449 - 3s/epoch - 4ms/step\n",
      "Epoch 6/10\n",
      "782/782 - 3s - loss: 0.9471 - accuracy: 0.6705 - 3s/epoch - 4ms/step\n",
      "Epoch 7/10\n",
      "782/782 - 4s - loss: 0.8961 - accuracy: 0.6885 - 4s/epoch - 5ms/step\n",
      "Epoch 8/10\n",
      "782/782 - 4s - loss: 0.8516 - accuracy: 0.7061 - 4s/epoch - 5ms/step\n",
      "Epoch 9/10\n",
      "782/782 - 4s - loss: 0.8128 - accuracy: 0.7212 - 4s/epoch - 5ms/step\n",
      "Epoch 10/10\n",
      "782/782 - 4s - loss: 0.7792 - accuracy: 0.7288 - 4s/epoch - 5ms/step\n",
      "157/157 - 1s - loss: 0.8864 - accuracy: 0.6947 - 830ms/epoch - 5ms/step\n"
     ]
    },
    {
     "data": {
      "text/plain": [
       "[0.8864077925682068, 0.6947000026702881]"
      ]
     },
     "execution_count": 13,
     "metadata": {},
     "output_type": "execute_result"
    }
   ],
   "source": [
    "model_functional.fit(x_train, y_train, batch_size = 64, epochs = 10, verbose = 2)\n",
    "model_functional.evaluate(x_test, y_test, batch_size = 64, verbose = 2)"
   ]
  }
 ],
 "metadata": {
  "kernelspec": {
   "display_name": "Python 3 (ipykernel)",
   "language": "python",
   "name": "python3"
  },
  "language_info": {
   "codemirror_mode": {
    "name": "ipython",
    "version": 3
   },
   "file_extension": ".py",
   "mimetype": "text/x-python",
   "name": "python",
   "nbconvert_exporter": "python",
   "pygments_lexer": "ipython3",
   "version": "3.10.0"
  }
 },
 "nbformat": 4,
 "nbformat_minor": 5
}
