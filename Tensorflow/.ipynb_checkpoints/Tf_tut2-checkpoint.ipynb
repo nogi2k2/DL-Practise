{
 "cells": [
  {
   "cell_type": "code",
   "execution_count": 4,
   "id": "ee3508bb-0913-4cfc-84b9-10066e5a3ec3",
   "metadata": {},
   "outputs": [],
   "source": [
    "import tensorflow as tf\n",
    "import os\n",
    "\n",
    "os.environ['TF_CPP_MIN_LOG_LEVEL'] = '2'"
   ]
  },
  {
   "cell_type": "code",
   "execution_count": 5,
   "id": "3b9e3ad4-4882-47d2-8705-5b071cbd6e7c",
   "metadata": {},
   "outputs": [],
   "source": [
    "physical_devices = tf.config.experimental.list_physical_devices('GPU')\n",
    "tf.config.experimental.set_memory_growth(physical_devices[0], enable = True)"
   ]
  },
  {
   "cell_type": "code",
   "execution_count": 7,
   "id": "9596a341-17a7-40ca-a02e-47c1cd59bf90",
   "metadata": {},
   "outputs": [],
   "source": [
    "from tensorflow import keras\n",
    "from tensorflow.keras import layers\n",
    "from tensorflow.keras.datasets import mnist"
   ]
  },
  {
   "cell_type": "code",
   "execution_count": 18,
   "id": "09bc4a0c-2260-4832-a19f-8116fb12d4dc",
   "metadata": {},
   "outputs": [
    {
     "name": "stdout",
     "output_type": "stream",
     "text": [
      "(60000, 28, 28) (60000,)\n",
      "(10000, 28, 28) (10000,)\n"
     ]
    }
   ],
   "source": [
    "(x_train, y_train), (x_test, y_test) = mnist.load_data()\n",
    "print(x_train.shape, y_train.shape)\n",
    "print(x_test.shape, y_test.shape)"
   ]
  },
  {
   "cell_type": "code",
   "execution_count": 19,
   "id": "394b9a30-2a7e-4787-b767-dde5086ab589",
   "metadata": {},
   "outputs": [
    {
     "name": "stdout",
     "output_type": "stream",
     "text": [
      "(60000, 784)\n",
      "(10000, 784)\n"
     ]
    }
   ],
   "source": [
    "x_train = x_train.reshape(-1, 28*28).astype(\"float32\")/255.0\n",
    "x_test = x_test.reshape(-1, 28*28).astype(\"float32\")/255.0\n",
    "print(x_train.shape)\n",
    "print(x_test.shape)"
   ]
  },
  {
   "cell_type": "code",
   "execution_count": 22,
   "id": "22c80f3a-a72e-4cb5-a2b4-454f682457c4",
   "metadata": {},
   "outputs": [],
   "source": [
    "from tensorflow.keras.models import Sequential"
   ]
  },
  {
   "cell_type": "code",
   "execution_count": 32,
   "id": "73fdc396-139b-4da8-9fa2-3162ed6c081d",
   "metadata": {},
   "outputs": [
    {
     "name": "stdout",
     "output_type": "stream",
     "text": [
      "Model: \"sequential_5\"\n",
      "_________________________________________________________________\n",
      " Layer (type)                Output Shape              Param #   \n",
      "=================================================================\n",
      " dense_17 (Dense)            (None, 512)               401920    \n",
      "                                                                 \n",
      " dense_18 (Dense)            (None, 256)               131328    \n",
      "                                                                 \n",
      " dense_19 (Dense)            (None, 10)                2570      \n",
      "                                                                 \n",
      "=================================================================\n",
      "Total params: 535,818\n",
      "Trainable params: 535,818\n",
      "Non-trainable params: 0\n",
      "_________________________________________________________________\n",
      "None\n"
     ]
    }
   ],
   "source": [
    "model = Sequential([\n",
    "    # layers.Input(784, )\n",
    "    layers.Dense(512, activation = 'relu', input_shape = (784, )),\n",
    "    layers.Dense(256, activation = 'relu'),\n",
    "    layers.Dense(10),\n",
    "])\n",
    "# model = keras.Sequential()\n",
    "# model.add() \n",
    "\n",
    "print(model.summary())\n",
    "\n",
    "model.compile(\n",
    "    loss = keras.losses.SparseCategoricalCrossentropy(from_logits = True),\n",
    "    optimizer = keras.optimizers.Adam(lr = 0.001),\n",
    "    metrics = ['Accuracy'],\n",
    ")"
   ]
  },
  {
   "cell_type": "code",
   "execution_count": 30,
   "id": "bbd6c33f-85f1-46bc-81f1-978f2d7fee6e",
   "metadata": {},
   "outputs": [
    {
     "name": "stdout",
     "output_type": "stream",
     "text": [
      "Epoch 1/5\n",
      "1875/1875 - 6s - loss: 0.1866 - Accuracy: 0.9429 - 6s/epoch - 3ms/step\n",
      "Epoch 2/5\n",
      "1875/1875 - 4s - loss: 0.0779 - Accuracy: 0.9761 - 4s/epoch - 2ms/step\n",
      "Epoch 3/5\n",
      "1875/1875 - 4s - loss: 0.0550 - Accuracy: 0.9826 - 4s/epoch - 2ms/step\n",
      "Epoch 4/5\n",
      "1875/1875 - 4s - loss: 0.0413 - Accuracy: 0.9873 - 4s/epoch - 2ms/step\n",
      "Epoch 5/5\n",
      "1875/1875 - 4s - loss: 0.0325 - Accuracy: 0.9894 - 4s/epoch - 2ms/step\n",
      "313/313 - 1s - loss: 0.0707 - Accuracy: 0.9804 - 816ms/epoch - 3ms/step\n"
     ]
    },
    {
     "data": {
      "text/plain": [
       "[0.070656917989254, 0.980400025844574]"
      ]
     },
     "execution_count": 30,
     "metadata": {},
     "output_type": "execute_result"
    }
   ],
   "source": [
    "model.fit(x_train, y_train, batch_size = 32, epochs = 5, verbose = 2)\n",
    "model.evaluate(x_test, y_test, batch_size = 32, verbose = 2)"
   ]
  },
  {
   "cell_type": "code",
   "execution_count": 35,
   "id": "c05ec107-8481-4725-9e8f-f0c785b41e98",
   "metadata": {},
   "outputs": [],
   "source": [
    "#Functional API\n",
    "inputs = keras.Input(shape = (784, ))\n",
    "x1 = layers.Dense(512, activation = 'relu')(inputs)\n",
    "x2 = layers.Dense(256, activation = 'relu')(x1)\n",
    "op = layers.Dense(10, activation = 'softmax')(x2)\n",
    "\n",
    "model_functional = keras.Model(inputs = [inputs,], outputs = [op,])"
   ]
  },
  {
   "cell_type": "code",
   "execution_count": 36,
   "id": "373c9fea-d20f-4ee4-921f-a47c49614292",
   "metadata": {},
   "outputs": [],
   "source": [
    "model_functional.compile(\n",
    "    loss = keras.losses.SparseCategoricalCrossentropy(from_logits = False),\n",
    "    optimizer = keras.optimizers.Adam(lr = 0.01),\n",
    "    metrics = ['accuracy'],\n",
    ")"
   ]
  },
  {
   "cell_type": "code",
   "execution_count": 37,
   "id": "5832b30b-0e02-42c7-9348-f525331e8758",
   "metadata": {},
   "outputs": [
    {
     "name": "stdout",
     "output_type": "stream",
     "text": [
      "Epoch 1/5\n",
      "1875/1875 - 5s - loss: 0.2940 - accuracy: 0.9186 - 5s/epoch - 3ms/step\n",
      "Epoch 2/5\n",
      "1875/1875 - 4s - loss: 0.1895 - accuracy: 0.9514 - 4s/epoch - 2ms/step\n",
      "Epoch 3/5\n",
      "1875/1875 - 4s - loss: 0.1665 - accuracy: 0.9575 - 4s/epoch - 2ms/step\n",
      "Epoch 4/5\n",
      "1875/1875 - 4s - loss: 0.1412 - accuracy: 0.9637 - 4s/epoch - 2ms/step\n",
      "Epoch 5/5\n",
      "1875/1875 - 4s - loss: 0.1458 - accuracy: 0.9634 - 4s/epoch - 2ms/step\n",
      "313/313 - 1s - loss: 0.1760 - accuracy: 0.9629 - 721ms/epoch - 2ms/step\n"
     ]
    },
    {
     "data": {
      "text/plain": [
       "[0.17604169249534607, 0.9628999829292297]"
      ]
     },
     "execution_count": 37,
     "metadata": {},
     "output_type": "execute_result"
    }
   ],
   "source": [
    "model_functional.fit(x_train, y_train, batch_size = 32, epochs = 5, verbose = 2)\n",
    "model_functional.evaluate(x_test, y_test, batch_size = 32, verbose = 2)"
   ]
  },
  {
   "cell_type": "code",
   "execution_count": 42,
   "id": "51a6fd13-a1f3-4f97-a239-c4e1a82df0d9",
   "metadata": {},
   "outputs": [
    {
     "name": "stdout",
     "output_type": "stream",
     "text": [
      "1875/1875 [==============================] - 3s 1ms/step\n",
      "(60000, 256)\n"
     ]
    }
   ],
   "source": [
    "#When using pretrained model:\n",
    "\n",
    "model_temp = keras.Model(inputs = model_functional.inputs, outputs = [model_functional.layers[-2].output])\n",
    "features = model_temp.predict(x_train)\n",
    "print(features.shape)\n",
    "\n",
    "# alternative:\n",
    "# model_temp = keras.Model(inputs = [model_fucntional.inputs, ], outputs = [model_functional.get_layer('<layer_name>').output])"
   ]
  }
 ],
 "metadata": {
  "kernelspec": {
   "display_name": "Python 3 (ipykernel)",
   "language": "python",
   "name": "python3"
  },
  "language_info": {
   "codemirror_mode": {
    "name": "ipython",
    "version": 3
   },
   "file_extension": ".py",
   "mimetype": "text/x-python",
   "name": "python",
   "nbconvert_exporter": "python",
   "pygments_lexer": "ipython3",
   "version": "3.10.0"
  }
 },
 "nbformat": 4,
 "nbformat_minor": 5
}
