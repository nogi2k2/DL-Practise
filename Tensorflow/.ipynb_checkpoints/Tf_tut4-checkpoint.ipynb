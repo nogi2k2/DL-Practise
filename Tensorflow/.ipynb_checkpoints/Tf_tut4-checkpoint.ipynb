{
 "cells": [
  {
   "cell_type": "code",
   "execution_count": 1,
   "id": "08c81202-d9da-45ab-bec2-2ae7dc8e5dd9",
   "metadata": {},
   "outputs": [],
   "source": [
    "import tensorflow as tf\n",
    "from tensorflow import keras\n",
    "from tensorflow.keras.models import Model, Sequential\n",
    "from tensorflow.keras import layers, regularizers\n",
    "from tensorflow.keras.datasets import mnist\n",
    "import os\n",
    "\n",
    "os.environ['TF_CPP_MIN_LOG_LEVEL'] = '2'"
   ]
  },
  {
   "cell_type": "code",
   "execution_count": 3,
   "id": "605d8bf1-3727-4936-ae72-c7b82249b9d3",
   "metadata": {},
   "outputs": [],
   "source": [
    "physical_devices = tf.config.experimental.list_physical_devices('GPU')\n",
    "tf.config.experimental.set_memory_growth(physical_devices[0], enable = True)"
   ]
  },
  {
   "cell_type": "code",
   "execution_count": 5,
   "id": "e9d687e1-0e60-424a-bf97-ff1fe05ab854",
   "metadata": {},
   "outputs": [],
   "source": [
    "(x_train, y_train) , (x_test, y_test) = mnist.load_data()\n",
    "x_train = x_train.astype('float32')/255.0\n",
    "x_test = x_test.astype('float32')/255.0"
   ]
  },
  {
   "cell_type": "code",
   "execution_count": 9,
   "id": "4702cd9a-6452-48d8-b74d-a170223d2f65",
   "metadata": {},
   "outputs": [
    {
     "name": "stdout",
     "output_type": "stream",
     "text": [
      "Model: \"model_1\"\n",
      "_________________________________________________________________\n",
      " Layer (type)                Output Shape              Param #   \n",
      "=================================================================\n",
      " input_4 (InputLayer)        [(None, None, 28)]        0         \n",
      "                                                                 \n",
      " simple_rnn_4 (SimpleRNN)    (None, None, 512)         276992    \n",
      "                                                                 \n",
      " simple_rnn_5 (SimpleRNN)    (None, 512)               524800    \n",
      "                                                                 \n",
      " dense_1 (Dense)             (None, 10)                5130      \n",
      "                                                                 \n",
      "=================================================================\n",
      "Total params: 806,922\n",
      "Trainable params: 806,922\n",
      "Non-trainable params: 0\n",
      "_________________________________________________________________\n",
      "None\n"
     ]
    }
   ],
   "source": [
    "inp = keras.Input(shape = (None, 28))\n",
    "rnn1 = layers.SimpleRNN(512, return_sequences = True, activation = 'relu')(inp)\n",
    "# For seperate activation layer: tf.keras.activations.relu()\n",
    "# gru1 = layers.GRU(512, return_sequences = True, activation = 'relu')\n",
    "# lstm1 = layers.LSTM(512, return_sequences = True, activation = 'relu') \n",
    "# birdirectional1 = layers.Birdirectional(layers.SimpleRNN(512, return_sequences = True, activation = 'relu'))\n",
    "# For using regularization with CNN: layers.Conv2D(64, 3, activation = 'relu', kernel_regularizers = layers.regularizers.l2(WEIGHT_DECAY))\n",
    "# For Dropuout: layers.Dropout(0.5)\n",
    "rnn2 = layers.SimpleRNN(512, activation = 'relu')(rnn1)\n",
    "dense = layers.Dense(10)(rnn2)\n",
    "\n",
    "model = Model(inputs = [inp, ], outputs = [dense, ])\n",
    "print(model.summary())"
   ]
  },
  {
   "cell_type": "code",
   "execution_count": 11,
   "id": "82893703-7562-462e-951a-50216461d63b",
   "metadata": {},
   "outputs": [
    {
     "name": "stderr",
     "output_type": "stream",
     "text": [
      "C:\\Users\\Nogi2\\AppData\\Local\\Programs\\Python\\Python310\\lib\\site-packages\\keras\\optimizers\\optimizer_v2\\adam.py:114: UserWarning: The `lr` argument is deprecated, use `learning_rate` instead.\n",
      "  super().__init__(name, **kwargs)\n"
     ]
    }
   ],
   "source": [
    "model.compile(\n",
    "    loss = keras.losses.SparseCategoricalCrossentropy(from_logits = True),\n",
    "    optimizer = keras.optimizers.Adam(lr = 0.01),\n",
    "    metrics = ['accuracy']\n",
    ")"
   ]
  },
  {
   "cell_type": "code",
   "execution_count": 12,
   "id": "886b5bd2-5963-4ce6-89da-e8ce20dddc49",
   "metadata": {},
   "outputs": [
    {
     "name": "stdout",
     "output_type": "stream",
     "text": [
      "Epoch 1/10\n",
      "938/938 - 63s - loss: 101.1779 - accuracy: 0.5756 - 63s/epoch - 67ms/step\n",
      "Epoch 2/10\n",
      "938/938 - 54s - loss: 0.7442 - accuracy: 0.7364 - 54s/epoch - 58ms/step\n",
      "Epoch 3/10\n",
      "938/938 - 54s - loss: 0.7392 - accuracy: 0.7453 - 54s/epoch - 58ms/step\n",
      "Epoch 4/10\n",
      "938/938 - 56s - loss: 0.5959 - accuracy: 0.8050 - 56s/epoch - 60ms/step\n",
      "Epoch 5/10\n",
      "938/938 - 59s - loss: 59.2044 - accuracy: 0.4562 - 59s/epoch - 63ms/step\n",
      "Epoch 6/10\n",
      "938/938 - 56s - loss: 1.1282 - accuracy: 0.5950 - 56s/epoch - 60ms/step\n",
      "Epoch 7/10\n",
      "938/938 - 55s - loss: 74793009152.0000 - accuracy: 0.1843 - 55s/epoch - 58ms/step\n",
      "Epoch 8/10\n",
      "938/938 - 54s - loss: 855282.2500 - accuracy: 0.2061 - 54s/epoch - 57ms/step\n",
      "Epoch 9/10\n",
      "938/938 - 57s - loss: 576317.0000 - accuracy: 0.2431 - 57s/epoch - 61ms/step\n",
      "Epoch 10/10\n",
      "938/938 - 54s - loss: 353937.0000 - accuracy: 0.2505 - 54s/epoch - 58ms/step\n",
      "157/157 - 3s - loss: 223393.3594 - accuracy: 0.2958 - 3s/epoch - 16ms/step\n"
     ]
    },
    {
     "data": {
      "text/plain": [
       "[223393.359375, 0.29580000042915344]"
      ]
     },
     "execution_count": 12,
     "metadata": {},
     "output_type": "execute_result"
    }
   ],
   "source": [
    "model.fit(x_train, y_train, verbose = 2, batch_size = 64, epochs = 10)\n",
    "model.evaluate(x_test, y_test, verbose = 2, batch_size = 64)"
   ]
  }
 ],
 "metadata": {
  "kernelspec": {
   "display_name": "Python 3 (ipykernel)",
   "language": "python",
   "name": "python3"
  },
  "language_info": {
   "codemirror_mode": {
    "name": "ipython",
    "version": 3
   },
   "file_extension": ".py",
   "mimetype": "text/x-python",
   "name": "python",
   "nbconvert_exporter": "python",
   "pygments_lexer": "ipython3",
   "version": "3.10.0"
  }
 },
 "nbformat": 4,
 "nbformat_minor": 5
}
