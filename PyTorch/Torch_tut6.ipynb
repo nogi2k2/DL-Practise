{
 "cells": [
  {
   "cell_type": "code",
   "execution_count": 3,
   "metadata": {},
   "outputs": [
    {
     "data": {
      "text/plain": [
       "'cuda'"
      ]
     },
     "execution_count": 3,
     "metadata": {},
     "output_type": "execute_result"
    }
   ],
   "source": [
    "import torch\n",
    "import torchvision\n",
    "import torch.nn as nn\n",
    "import torch.optim as optim\n",
    "import torch.nn.functional as F\n",
    "from torch.utils.data import DataLoader, Dataset, random_split\n",
    "import torchvision.datasets as datasets\n",
    "import torchvision.transforms as transforms\n",
    "from torchinfo import summary\n",
    "from tqdm import tqdm\n",
    "import matplotlib.pyplot as plt\n",
    "from skimage import io\n",
    "import pandas as pd\n",
    "import os\n",
    "\n",
    "device = \"cuda\" if torch.cuda.is_available() else \"cpu\"\n",
    "device\n"
   ]
  },
  {
   "cell_type": "code",
   "execution_count": null,
   "metadata": {},
   "outputs": [],
   "source": [
    "class CustomDataset(Dataset):\n",
    "    def __init__(self, csv_file_path, root_dir, transform = None):\n",
    "        # super(CustomDataset, self).__init__()\n",
    "        self.data = pd.read_csv(csv_file_path)\n",
    "        self.transform = transform\n",
    "        self.root_dir = root_dir\n",
    "    \n",
    "    def __len__(self):\n",
    "        return len(self.data)\n",
    "\n",
    "    def __getitem__(self, index):\n",
    "        img_path = os.path.join(self.root_dir, self.data.iloc[index, 0])\n",
    "        image = io.imread(img_path)\n",
    "        label = torch.tensor(self.data.iloc[index, 1])\n",
    "\n",
    "        if self.transform is not None:\n",
    "            image = self.transform(image)\n",
    "        \n",
    "        return image, label"
   ]
  },
  {
   "cell_type": "code",
   "execution_count": null,
   "metadata": {},
   "outputs": [],
   "source": [
    "csv_file_path = \"<path_to_csv_file>\"\n",
    "root_dir = \"<root_dir>\"\n",
    "batch_size = 64\n",
    "learning_rate = 0.001\n",
    "in_channels = 3\n",
    "num_classes = 2\n",
    "num_epochs = 10\n",
    "\n",
    "data = CustomDataset(csv_file_path = csv_file_path, root_dir = root_dir, transform = transforms.ToTensor())\n",
    "train_dataset, test_dataset = random_split(data, [20000, 5000])\n",
    "train_loader = DataLoader(train_dataset, shuffle = True, batch_size = batch_size)\n",
    "test_loader = DataLoader(test_dataset, shuffle = True, batch_size = batch_size)"
   ]
  },
  {
   "cell_type": "code",
   "execution_count": null,
   "metadata": {},
   "outputs": [],
   "source": [
    "class SimpleCNN(nn.Module):\n",
    "    def __init__(self, in_channels, num_classes):\n",
    "        super(SimpleCNN, self).__init__()\n",
    "        self.conv1 = nn.Conv2d(in_channels = in_channels, out_channels = 32, kernel_size = 3, stride = 1)\n",
    "        self.bn1 = nn.BatchNorm2d(32)\n",
    "        self.conv2 = nn.Conv2d(in_channels = 32, out_channels = 64, kernel_size = 3, stride = 1)\n",
    "        self.bn1 = nn.BatchNorm2d(64)\n",
    "        self.aap = nn.AdaptiveAvgPool2d()\n",
    "        self.dense1 = nn.Linear(64, 32)\n",
    "        self.drop1 = nn.Dropout(0.2)\n",
    "        self.dense2 = nn.Linear(32, 16)\n",
    "        self.drop2 = nn.Dropout(0.2)\n",
    "        self.dense3 = nn.Linear(16, 2)\n",
    "        self.relu = nn.ReLU()\n",
    "\n",
    "    def forward(self, input_tensor):\n",
    "        o1 = self.relu(self.bn1(self.conv1(input_tensor)))\n",
    "        o2 = self.relu(self.bn2(self.conv2(o1)))\n",
    "        aap = self.aap(o2)\n",
    "        dense1 = self.drop1(self.relu(self.dense1(aap)))\n",
    "        dense2 = self.drop2(self.relu(self.dense2(dense1)))\n",
    "        output = self.dense3(dense2)\n",
    "\n",
    "        return output\n",
    "\n",
    "model = SimpleCNN(in_channels, num_classes)\n",
    "print(model)"
   ]
  },
  {
   "cell_type": "code",
   "execution_count": null,
   "metadata": {},
   "outputs": [],
   "source": [
    "loss_fn = nn.CrossEntropyLoss()\n",
    "optimizer = optim.Adam(model.parameters(), lr = learning_rate)\n",
    "\n",
    "print(loss_fn)\n",
    "print()\n",
    "print(optimizer)"
   ]
  },
  {
   "cell_type": "code",
   "execution_count": null,
   "metadata": {},
   "outputs": [],
   "source": [
    "# Training Loop\n",
    "total_loss = 0\n",
    "correct = 0\n",
    "losses = []\n",
    "accuracies = []\n",
    "\n",
    "model.train()\n",
    "for epoch in tqdm(range(num_epochs)):\n",
    "    for batch_idx, (x, y) in enumerate(train_loader):\n",
    "        x, y = x.to(device), y.to(device)\n",
    "        y_pred = model(x)\n",
    "        loss_batch = loss_fn(y_pred, y)\n",
    "\n",
    "        optimizer.zero_grad()\n",
    "        loss_batch.backward()\n",
    "        optimizer.step()\n",
    "\n",
    "        total_loss += loss_batch.item()\n",
    "        correct += (y_pred.argmax(1) == y).sum().item()\n",
    "    \n",
    "    losses.append(total_loss/len(train_loader.dataset))\n",
    "    accuracies.append(correct/len(train_loader.dataset))\n",
    "\n",
    "    print(f\"Epoch: {epoch} | Loss: {total_loss/len(train_loader.dataset):.3f} | Accuracy: {(correct/len(train_loader.dataset)*100):.3f}\")"
   ]
  },
  {
   "cell_type": "code",
   "execution_count": null,
   "metadata": {},
   "outputs": [],
   "source": [
    "fig, (ax1, ax2) = plt.subplots(1, 2, figsize = (12, 5))\n",
    "ax1.plot(range(num_epochs), losses)\n",
    "ax1.set_title(\"Loss Trend\")\n",
    "ax1.set_xlabel(\"Epochs\")\n",
    "ax1.set_ylabel(\"Loss\")\n",
    "\n",
    "ax2.plot(range(num_epochs), accuracies)\n",
    "ax2.set_title(\"Accuracy Trend\")\n",
    "ax2.set_xlabel(\"Epochs\")\n",
    "ax2.set_ylabel(\"Accuracy\")\n",
    "\n",
    "plt.tight_layout()\n",
    "plt.show()"
   ]
  },
  {
   "cell_type": "code",
   "execution_count": null,
   "metadata": {},
   "outputs": [],
   "source": [
    "# Testing Loop\n",
    "total_loss = 0\n",
    "correct = 0\n",
    "\n",
    "model.eval()\n",
    "with torch.no_grad():\n",
    "    for batch_idx, (x, y) in enumerate(test_loader):\n",
    "        x, y = x.to(device), y.to(device)\n",
    "        y_pred = model(x)\n",
    "        loss_batch = loss_fn(y_pred, y)\n",
    "\n",
    "        total_loss += loss_batch.item()\n",
    "        correct += (y_pred.argmax(1) == y).sum().item()\n",
    "\n",
    "print(f\"Loss: {total_loss/len(test_loader.dataset):.3f} | Accuracy: {(correct/len(test_loader.dataset) * 100):.3f}\")"
   ]
  }
 ],
 "metadata": {
  "kernelspec": {
   "display_name": "Python 3",
   "language": "python",
   "name": "python3"
  },
  "language_info": {
   "codemirror_mode": {
    "name": "ipython",
    "version": 3
   },
   "file_extension": ".py",
   "mimetype": "text/x-python",
   "name": "python",
   "nbconvert_exporter": "python",
   "pygments_lexer": "ipython3",
   "version": "3.10.0"
  }
 },
 "nbformat": 4,
 "nbformat_minor": 2
}
