{
 "cells": [
  {
   "cell_type": "code",
   "execution_count": 1,
   "metadata": {},
   "outputs": [
    {
     "data": {
      "text/plain": [
       "'cuda'"
      ]
     },
     "execution_count": 1,
     "metadata": {},
     "output_type": "execute_result"
    }
   ],
   "source": [
    "import torch\n",
    "import torchvision\n",
    "import torch.nn as nn\n",
    "import torch.optim as optim\n",
    "import torch.nn.functional as F\n",
    "from torch.utils.data import DataLoader\n",
    "import torchvision.datasets as datasets\n",
    "import torchvision.transforms as transforms\n",
    "from tqdm import tqdm\n",
    "from torchinfo import summary\n",
    "import matplotlib.pyplot as plt\n",
    "\n",
    "device = \"cuda\" if torch.cuda.is_available() else \"cpu\"\n",
    "device"
   ]
  },
  {
   "cell_type": "code",
   "execution_count": 2,
   "metadata": {},
   "outputs": [],
   "source": [
    "in_channels = 3\n",
    "num_classes = 10\n",
    "batch_size = 1024\n",
    "learning_rate = 1e-3\n",
    "num_epochs = 10"
   ]
  },
  {
   "cell_type": "code",
   "execution_count": 4,
   "metadata": {},
   "outputs": [
    {
     "name": "stdout",
     "output_type": "stream",
     "text": [
      "Downloading https://www.cs.toronto.edu/~kriz/cifar-10-python.tar.gz to datasets/cifar-10-python.tar.gz\n"
     ]
    },
    {
     "name": "stderr",
     "output_type": "stream",
     "text": [
      "100%|██████████| 170498071/170498071 [00:14<00:00, 11561006.71it/s]\n"
     ]
    },
    {
     "name": "stdout",
     "output_type": "stream",
     "text": [
      "Extracting datasets/cifar-10-python.tar.gz to datasets/\n",
      "Files already downloaded and verified\n"
     ]
    }
   ],
   "source": [
    "train_dataset = datasets.CIFAR10(root = \"datasets/\", download = True, transform = transforms.ToTensor(), train = True)\n",
    "test_dataset = datasets.CIFAR10(root = \"datasets/\", download = True, train = False, transform = transforms.ToTensor())\n",
    "train_loader = DataLoader(train_dataset, shuffle = True, batch_size = batch_size)\n",
    "test_loader = DataLoader(test_dataset, shuffle = True, batch_size = batch_size)"
   ]
  },
  {
   "cell_type": "code",
   "execution_count": 26,
   "metadata": {},
   "outputs": [
    {
     "name": "stderr",
     "output_type": "stream",
     "text": [
      "c:\\Users\\Nogi2\\AppData\\Local\\Programs\\Python\\Python310\\lib\\site-packages\\torchvision\\models\\_utils.py:208: UserWarning: The parameter 'pretrained' is deprecated since 0.13 and may be removed in the future, please use 'weights' instead.\n",
      "  warnings.warn(\n",
      "c:\\Users\\Nogi2\\AppData\\Local\\Programs\\Python\\Python310\\lib\\site-packages\\torchvision\\models\\_utils.py:223: UserWarning: Arguments other than a weight enum or `None` for 'weights' are deprecated since 0.13 and may be removed in the future. The current behavior is equivalent to passing `weights=VGG16_Weights.IMAGENET1K_V1`. You can also use `weights=VGG16_Weights.DEFAULT` to get the most up-to-date weights.\n",
      "  warnings.warn(msg)\n",
      "Downloading: \"https://download.pytorch.org/models/vgg16-397923af.pth\" to C:\\Users\\Nogi2/.cache\\torch\\hub\\checkpoints\\vgg16-397923af.pth\n",
      "100%|██████████| 528M/528M [00:14<00:00, 37.7MB/s] \n"
     ]
    },
    {
     "name": "stdout",
     "output_type": "stream",
     "text": [
      "VGG(\n",
      "  (features): Sequential(\n",
      "    (0): Conv2d(3, 64, kernel_size=(3, 3), stride=(1, 1), padding=(1, 1))\n",
      "    (1): ReLU(inplace=True)\n",
      "    (2): Conv2d(64, 64, kernel_size=(3, 3), stride=(1, 1), padding=(1, 1))\n",
      "    (3): ReLU(inplace=True)\n",
      "    (4): MaxPool2d(kernel_size=2, stride=2, padding=0, dilation=1, ceil_mode=False)\n",
      "    (5): Conv2d(64, 128, kernel_size=(3, 3), stride=(1, 1), padding=(1, 1))\n",
      "    (6): ReLU(inplace=True)\n",
      "    (7): Conv2d(128, 128, kernel_size=(3, 3), stride=(1, 1), padding=(1, 1))\n",
      "    (8): ReLU(inplace=True)\n",
      "    (9): MaxPool2d(kernel_size=2, stride=2, padding=0, dilation=1, ceil_mode=False)\n",
      "    (10): Conv2d(128, 256, kernel_size=(3, 3), stride=(1, 1), padding=(1, 1))\n",
      "    (11): ReLU(inplace=True)\n",
      "    (12): Conv2d(256, 256, kernel_size=(3, 3), stride=(1, 1), padding=(1, 1))\n",
      "    (13): ReLU(inplace=True)\n",
      "    (14): Conv2d(256, 256, kernel_size=(3, 3), stride=(1, 1), padding=(1, 1))\n",
      "    (15): ReLU(inplace=True)\n",
      "    (16): MaxPool2d(kernel_size=2, stride=2, padding=0, dilation=1, ceil_mode=False)\n",
      "    (17): Conv2d(256, 512, kernel_size=(3, 3), stride=(1, 1), padding=(1, 1))\n",
      "    (18): ReLU(inplace=True)\n",
      "    (19): Conv2d(512, 512, kernel_size=(3, 3), stride=(1, 1), padding=(1, 1))\n",
      "    (20): ReLU(inplace=True)\n",
      "    (21): Conv2d(512, 512, kernel_size=(3, 3), stride=(1, 1), padding=(1, 1))\n",
      "    (22): ReLU(inplace=True)\n",
      "    (23): MaxPool2d(kernel_size=2, stride=2, padding=0, dilation=1, ceil_mode=False)\n",
      "    (24): Conv2d(512, 512, kernel_size=(3, 3), stride=(1, 1), padding=(1, 1))\n",
      "    (25): ReLU(inplace=True)\n",
      "    (26): Conv2d(512, 512, kernel_size=(3, 3), stride=(1, 1), padding=(1, 1))\n",
      "    (27): ReLU(inplace=True)\n",
      "    (28): Conv2d(512, 512, kernel_size=(3, 3), stride=(1, 1), padding=(1, 1))\n",
      "    (29): ReLU(inplace=True)\n",
      "    (30): MaxPool2d(kernel_size=2, stride=2, padding=0, dilation=1, ceil_mode=False)\n",
      "  )\n",
      "  (avgpool): Identity()\n",
      "  (classifier): Sequential(\n",
      "    (0): Linear(in_features=512, out_features=256, bias=True)\n",
      "    (1): ReLU()\n",
      "    (2): Dropout(p=0.2, inplace=False)\n",
      "    (3): Linear(in_features=256, out_features=100, bias=True)\n",
      "    (4): ReLU()\n",
      "    (5): Dropout(p=0.2, inplace=False)\n",
      "    (6): Linear(in_features=100, out_features=10, bias=True)\n",
      "  )\n",
      ")\n",
      "\n",
      "==========================================================================================\n",
      "Layer (type:depth-idx)                   Output Shape              Param #\n",
      "==========================================================================================\n",
      "VGG                                      [1024, 10]                --\n",
      "├─Sequential: 1-1                        [1024, 512, 1, 1]         --\n",
      "│    └─Conv2d: 2-1                       [1024, 64, 32, 32]        (1,792)\n",
      "│    └─ReLU: 2-2                         [1024, 64, 32, 32]        --\n",
      "│    └─Conv2d: 2-3                       [1024, 64, 32, 32]        (36,928)\n",
      "│    └─ReLU: 2-4                         [1024, 64, 32, 32]        --\n",
      "│    └─MaxPool2d: 2-5                    [1024, 64, 16, 16]        --\n",
      "│    └─Conv2d: 2-6                       [1024, 128, 16, 16]       (73,856)\n",
      "│    └─ReLU: 2-7                         [1024, 128, 16, 16]       --\n",
      "│    └─Conv2d: 2-8                       [1024, 128, 16, 16]       (147,584)\n",
      "│    └─ReLU: 2-9                         [1024, 128, 16, 16]       --\n",
      "│    └─MaxPool2d: 2-10                   [1024, 128, 8, 8]         --\n",
      "│    └─Conv2d: 2-11                      [1024, 256, 8, 8]         (295,168)\n",
      "│    └─ReLU: 2-12                        [1024, 256, 8, 8]         --\n",
      "│    └─Conv2d: 2-13                      [1024, 256, 8, 8]         (590,080)\n",
      "│    └─ReLU: 2-14                        [1024, 256, 8, 8]         --\n",
      "│    └─Conv2d: 2-15                      [1024, 256, 8, 8]         (590,080)\n",
      "│    └─ReLU: 2-16                        [1024, 256, 8, 8]         --\n",
      "│    └─MaxPool2d: 2-17                   [1024, 256, 4, 4]         --\n",
      "│    └─Conv2d: 2-18                      [1024, 512, 4, 4]         (1,180,160)\n",
      "│    └─ReLU: 2-19                        [1024, 512, 4, 4]         --\n",
      "│    └─Conv2d: 2-20                      [1024, 512, 4, 4]         (2,359,808)\n",
      "│    └─ReLU: 2-21                        [1024, 512, 4, 4]         --\n",
      "│    └─Conv2d: 2-22                      [1024, 512, 4, 4]         (2,359,808)\n",
      "│    └─ReLU: 2-23                        [1024, 512, 4, 4]         --\n",
      "│    └─MaxPool2d: 2-24                   [1024, 512, 2, 2]         --\n",
      "│    └─Conv2d: 2-25                      [1024, 512, 2, 2]         (2,359,808)\n",
      "│    └─ReLU: 2-26                        [1024, 512, 2, 2]         --\n",
      "│    └─Conv2d: 2-27                      [1024, 512, 2, 2]         (2,359,808)\n",
      "│    └─ReLU: 2-28                        [1024, 512, 2, 2]         --\n",
      "│    └─Conv2d: 2-29                      [1024, 512, 2, 2]         (2,359,808)\n",
      "│    └─ReLU: 2-30                        [1024, 512, 2, 2]         --\n",
      "│    └─MaxPool2d: 2-31                   [1024, 512, 1, 1]         --\n",
      "├─Identity: 1-2                          [1024, 512, 1, 1]         --\n",
      "├─Sequential: 1-3                        [1024, 10]                --\n",
      "│    └─Linear: 2-32                      [1024, 256]               131,328\n",
      "│    └─ReLU: 2-33                        [1024, 256]               --\n",
      "│    └─Dropout: 2-34                     [1024, 256]               --\n",
      "│    └─Linear: 2-35                      [1024, 100]               25,700\n",
      "│    └─ReLU: 2-36                        [1024, 100]               --\n",
      "│    └─Dropout: 2-37                     [1024, 100]               --\n",
      "│    └─Linear: 2-38                      [1024, 10]                1,010\n",
      "==========================================================================================\n",
      "Total params: 14,872,726\n",
      "Trainable params: 158,038\n",
      "Non-trainable params: 14,714,688\n",
      "Total mult-adds (G): 321.16\n",
      "==========================================================================================\n",
      "Input size (MB): 12.58\n",
      "Forward/backward pass size (MB): 2267.92\n",
      "Params size (MB): 59.49\n",
      "Estimated Total Size (MB): 2340.00\n",
      "==========================================================================================\n"
     ]
    }
   ],
   "source": [
    "class Identity(nn.Module):\n",
    "    def __init__(self):\n",
    "        super(Identity, self).__init__()\n",
    "    \n",
    "    def forward(self, input_tensor):\n",
    "        return input_tensor\n",
    "\n",
    "model = torchvision.models.vgg16(pretrained = True)\n",
    "for params in model.parameters():\n",
    "    params.requires_grad = False\n",
    "model.avgpool = Identity()\n",
    "model.classifier = nn.Sequential(\n",
    "\n",
    "    # nn.Flatten(),\n",
    "    nn.Linear(512, 256),\n",
    "    nn.ReLU(),\n",
    "    nn.Dropout(0.2),\n",
    "    nn.Linear(256, 100),\n",
    "    nn.ReLU(),\n",
    "    nn.Dropout(0.2),\n",
    "    nn.Linear(100, 10)\n",
    "    # nn.Linear(512, 100),\n",
    "    # nn.ReLU(),\n",
    "    # nn.Linear(100, 10)\n",
    ")\n",
    "\n",
    "model.to(device)\n",
    "print(model)\n",
    "print()\n",
    "print(summary(model, input_size = (batch_size, 3, 32, 32)))"
   ]
  },
  {
   "cell_type": "code",
   "execution_count": 19,
   "metadata": {},
   "outputs": [
    {
     "name": "stdout",
     "output_type": "stream",
     "text": [
      "CrossEntropyLoss()\n",
      "\n",
      "Adam (\n",
      "Parameter Group 0\n",
      "    amsgrad: False\n",
      "    betas: (0.9, 0.999)\n",
      "    capturable: False\n",
      "    differentiable: False\n",
      "    eps: 1e-08\n",
      "    foreach: None\n",
      "    fused: None\n",
      "    lr: 0.001\n",
      "    maximize: False\n",
      "    weight_decay: 0\n",
      ")\n"
     ]
    }
   ],
   "source": [
    "loss_fn = nn.CrossEntropyLoss()\n",
    "optimizer = optim.Adam(model.parameters(), lr = learning_rate)\n",
    "\n",
    "print(loss_fn)\n",
    "print()\n",
    "print(optimizer)"
   ]
  },
  {
   "cell_type": "code",
   "execution_count": 27,
   "metadata": {},
   "outputs": [
    {
     "name": "stderr",
     "output_type": "stream",
     "text": [
      " 10%|█         | 1/10 [00:19<02:59, 19.90s/it]"
     ]
    },
    {
     "name": "stdout",
     "output_type": "stream",
     "text": [
      "Epoch: 0 | Loss: 0.002 | Accuracy: 10.112\n"
     ]
    },
    {
     "name": "stderr",
     "output_type": "stream",
     "text": [
      " 20%|██        | 2/10 [00:42<02:53, 21.73s/it]"
     ]
    },
    {
     "name": "stdout",
     "output_type": "stream",
     "text": [
      "Epoch: 1 | Loss: 0.002 | Accuracy: 10.186\n"
     ]
    },
    {
     "name": "stderr",
     "output_type": "stream",
     "text": [
      " 30%|███       | 3/10 [01:09<02:48, 24.10s/it]"
     ]
    },
    {
     "name": "stdout",
     "output_type": "stream",
     "text": [
      "Epoch: 2 | Loss: 0.002 | Accuracy: 10.444\n"
     ]
    },
    {
     "name": "stderr",
     "output_type": "stream",
     "text": [
      " 40%|████      | 4/10 [01:32<02:21, 23.50s/it]"
     ]
    },
    {
     "name": "stdout",
     "output_type": "stream",
     "text": [
      "Epoch: 3 | Loss: 0.002 | Accuracy: 10.194\n"
     ]
    },
    {
     "name": "stderr",
     "output_type": "stream",
     "text": [
      " 50%|█████     | 5/10 [01:54<01:55, 23.06s/it]"
     ]
    },
    {
     "name": "stdout",
     "output_type": "stream",
     "text": [
      "Epoch: 4 | Loss: 0.002 | Accuracy: 10.176\n"
     ]
    },
    {
     "name": "stderr",
     "output_type": "stream",
     "text": [
      " 60%|██████    | 6/10 [02:14<01:28, 22.02s/it]"
     ]
    },
    {
     "name": "stdout",
     "output_type": "stream",
     "text": [
      "Epoch: 5 | Loss: 0.002 | Accuracy: 9.982\n"
     ]
    },
    {
     "name": "stderr",
     "output_type": "stream",
     "text": [
      " 70%|███████   | 7/10 [02:35<01:04, 21.61s/it]"
     ]
    },
    {
     "name": "stdout",
     "output_type": "stream",
     "text": [
      "Epoch: 6 | Loss: 0.002 | Accuracy: 10.062\n"
     ]
    },
    {
     "name": "stderr",
     "output_type": "stream",
     "text": [
      " 80%|████████  | 8/10 [02:58<00:43, 21.98s/it]"
     ]
    },
    {
     "name": "stdout",
     "output_type": "stream",
     "text": [
      "Epoch: 7 | Loss: 0.002 | Accuracy: 10.102\n"
     ]
    },
    {
     "name": "stderr",
     "output_type": "stream",
     "text": [
      " 90%|█████████ | 9/10 [03:18<00:21, 21.41s/it]"
     ]
    },
    {
     "name": "stdout",
     "output_type": "stream",
     "text": [
      "Epoch: 8 | Loss: 0.002 | Accuracy: 10.126\n"
     ]
    },
    {
     "name": "stderr",
     "output_type": "stream",
     "text": [
      "100%|██████████| 10/10 [03:39<00:00, 21.92s/it]"
     ]
    },
    {
     "name": "stdout",
     "output_type": "stream",
     "text": [
      "Epoch: 9 | Loss: 0.002 | Accuracy: 9.938\n"
     ]
    },
    {
     "name": "stderr",
     "output_type": "stream",
     "text": [
      "\n"
     ]
    }
   ],
   "source": [
    "# Training Loop\n",
    "total_loss = 0\n",
    "correct = 0\n",
    "losses = []\n",
    "accuracies = []\n",
    "\n",
    "model.train()\n",
    "for epoch in tqdm(range(num_epochs)):\n",
    "    total_loss = 0\n",
    "    correct = 0\n",
    "    for batch_idx, (x, y) in enumerate(train_loader):\n",
    "        x, y = x.to(device), y.to(device)\n",
    "        y_pred = model(x)\n",
    "        loss_batch = loss_fn(y_pred, y)\n",
    "        optimizer.zero_grad()\n",
    "        loss_batch.backward()\n",
    "        optimizer.step()\n",
    "\n",
    "        total_loss += loss_batch.item()\n",
    "        correct += (y_pred.argmax(1) == y).sum().item()\n",
    "\n",
    "    losses.append(total_loss/len(train_loader.dataset))\n",
    "    accuracies.append(correct/len(train_loader.dataset))\n",
    "    print(f\"Epoch: {epoch} | Loss: {total_loss/len(train_loader.dataset):.3f} | Accuracy: {(correct/len(train_loader.dataset) * 100):.3f}\")"
   ]
  },
  {
   "cell_type": "code",
   "execution_count": 28,
   "metadata": {},
   "outputs": [
    {
     "data": {
      "image/png": "[encoded data removed]",
      "text/plain": [
       "<Figure size 1200x500 with 2 Axes>"
      ]
     },
     "metadata": {},
     "output_type": "display_data"
    }
   ],
   "source": [
    "fig, (ax1, ax2) = plt.subplots(1,2, figsize = (12, 5))\n",
    "ax1.plot(range(num_epochs), losses)\n",
    "ax1.set_title(\"Loss Trend\")\n",
    "ax1.set_xlabel(\"Epochs\")\n",
    "ax1.set_ylabel(\"Loss\")\n",
    "\n",
    "ax2.plot(range(num_epochs), accuracies)\n",
    "ax2.set_title(\"Accuracy Trend\")\n",
    "ax2.set_xlabel(\"Epochs\")\n",
    "ax2.set_ylabel(\"Accuracy\")\n",
    "\n",
    "plt.tight_layout()\n",
    "plt.show()"
   ]
  },
  {
   "cell_type": "code",
   "execution_count": 29,
   "metadata": {},
   "outputs": [
    {
     "name": "stdout",
     "output_type": "stream",
     "text": [
      "Loss: 0.002 | Accuracy: 10.090\n"
     ]
    }
   ],
   "source": [
    "# Testing Loop\n",
    "total_loss = 0\n",
    "correct = 0\n",
    "\n",
    "model.eval()\n",
    "with torch.no_grad():\n",
    "    for batch_idx, (x, y) in enumerate(test_loader):\n",
    "        x, y = x.to(device), y.to(device)\n",
    "        y_pred = model(x)\n",
    "        loss_batch = loss_fn(y_pred, y)\n",
    "\n",
    "        total_loss += loss_batch.item()\n",
    "        correct += (y_pred.argmax(1) == y).sum().item()\n",
    "\n",
    "print(f\"Loss: {total_loss/len(test_loader.dataset):.3f} | Accuracy: {(correct/len(test_loader.dataset) * 100):.3f}\")"
   ]
  }
 ],
 "metadata": {
  "kernelspec": {
   "display_name": "Python 3",
   "language": "python",
   "name": "python3"
  },
  "language_info": {
   "codemirror_mode": {
    "name": "ipython",
    "version": 3
   },
   "file_extension": ".py",
   "mimetype": "text/x-python",
   "name": "python",
   "nbconvert_exporter": "python",
   "pygments_lexer": "ipython3",
   "version": "3.10.0"
  }
 },
 "nbformat": 4,
 "nbformat_minor": 2
}
