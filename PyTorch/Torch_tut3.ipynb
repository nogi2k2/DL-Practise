{
 "cells": [
  {
   "cell_type": "code",
   "execution_count": 1,
   "metadata": {},
   "outputs": [
    {
     "data": {
      "text/plain": [
       "'cuda'"
      ]
     },
     "execution_count": 1,
     "metadata": {},
     "output_type": "execute_result"
    }
   ],
   "source": [
    "import torch\n",
    "import torch.nn as nn\n",
    "import torch.nn.functional as F\n",
    "import torch.optim as optim\n",
    "from torch.utils.data import DataLoader\n",
    "import torchvision.datasets as datasets\n",
    "import torchvision.transforms as transforms\n",
    "import matplotlib.pyplot as plt\n",
    "from torchinfo import summary\n",
    "from tqdm import tqdm\n",
    "\n",
    "device = \"cuda\" if torch.cuda.is_available() else \"cpu\"\n",
    "device"
   ]
  },
  {
   "cell_type": "code",
   "execution_count": 2,
   "metadata": {},
   "outputs": [],
   "source": [
    "class BasicCNN(nn.Module):\n",
    "    def __init__(self, in_channels = 1, num_classes = 10):\n",
    "        super(BasicCNN, self).__init__()\n",
    "        self.conv1 = nn.Conv2d(in_channels = in_channels, out_channels = 64, kernel_size = (3, 3), stride = (1,1), padding = (1,1))\n",
    "        self.bn1 = nn.BatchNorm2d(64)\n",
    "        self.pool1 = nn.MaxPool2d(kernel_size = (2,2), stride = (2,2))\n",
    "        self.conv2 = nn.Conv2d(in_channels = 64, out_channels = 128, kernel_size = (3,3), stride = (1,1), padding = (1,1))\n",
    "        self.bn2 = nn.BatchNorm2d(128)\n",
    "        self.pool2 = nn.MaxPool2d(kernel_size = (2,2), stride = (2,2))\n",
    "        self.flatten = nn.Flatten()\n",
    "        self.dense1 = nn.Linear(128*7*7, 128)\n",
    "        self.dense2 = nn.Linear(128, num_classes)\n",
    "        self.relu = nn.ReLU()\n",
    "        \n",
    "    def forward(self, input_tensor):\n",
    "        op1 = self.pool1(self.relu(self.bn1(self.conv1(input_tensor))))\n",
    "        op2 = self.pool2(self.relu(self.bn2(self.conv2(op1))))\n",
    "        flattened = self.flatten(op2)\n",
    "        linear1 = self.relu(self.dense1(flattened))\n",
    "        return self.dense2(linear1)"
   ]
  },
  {
   "cell_type": "code",
   "execution_count": 8,
   "metadata": {},
   "outputs": [],
   "source": [
    "batch_size = 64\n",
    "learning_rate = 0.01\n",
    "num_classes = 10\n",
    "in_channels = 1\n",
    "num_epochs = 10"
   ]
  },
  {
   "cell_type": "code",
   "execution_count": 4,
   "metadata": {},
   "outputs": [
    {
     "name": "stdout",
     "output_type": "stream",
     "text": [
      "Total Samples in training set: 60000 | Total Batches in training set: 14.65625\n",
      "Total Samples in testing set: 10000 | Total Batches in testing set: 2.453125\n"
     ]
    }
   ],
   "source": [
    "train_data = datasets.MNIST(root = \"datasets\", train = True, download = True, transform = transforms.ToTensor())\n",
    "test_data = datasets.MNIST(root = \"datasets/\", train = False, download = True, transform = transforms.ToTensor())\n",
    "train_loader = DataLoader(dataset = train_data, shuffle = True, batch_size = batch_size)\n",
    "test_loader = DataLoader(dataset = test_data, shuffle = False, batch_size = batch_size)\n",
    "\n",
    "print(f\"Total Samples in training set: {len(train_loader.dataset)} | Total Batches in training set: {len(train_loader)/batch_size}\")\n",
    "print(f\"Total Samples in testing set: {len(test_loader.dataset)} | Total Batches in testing set: {len(test_loader)/batch_size}\")"
   ]
  },
  {
   "cell_type": "code",
   "execution_count": 6,
   "metadata": {},
   "outputs": [
    {
     "name": "stdout",
     "output_type": "stream",
     "text": [
      "BasicCNN(\n",
      "  (conv1): Conv2d(1, 64, kernel_size=(3, 3), stride=(1, 1), padding=(1, 1))\n",
      "  (bn1): BatchNorm2d(64, eps=1e-05, momentum=0.1, affine=True, track_running_stats=True)\n",
      "  (pool1): MaxPool2d(kernel_size=(2, 2), stride=(2, 2), padding=0, dilation=1, ceil_mode=False)\n",
      "  (conv2): Conv2d(64, 128, kernel_size=(3, 3), stride=(1, 1), padding=(1, 1))\n",
      "  (bn2): BatchNorm2d(128, eps=1e-05, momentum=0.1, affine=True, track_running_stats=True)\n",
      "  (pool2): MaxPool2d(kernel_size=(2, 2), stride=(2, 2), padding=0, dilation=1, ceil_mode=False)\n",
      "  (flatten): Flatten(start_dim=1, end_dim=-1)\n",
      "  (dense1): Linear(in_features=6272, out_features=128, bias=True)\n",
      "  (dense2): Linear(in_features=128, out_features=10, bias=True)\n",
      "  (relu): ReLU()\n",
      ")\n",
      "\n",
      "==========================================================================================\n",
      "Layer (type:depth-idx)                   Output Shape              Param #\n",
      "==========================================================================================\n",
      "BasicCNN                                 [64, 10]                  --\n",
      "├─Conv2d: 1-1                            [64, 64, 28, 28]          640\n",
      "├─BatchNorm2d: 1-2                       [64, 64, 28, 28]          128\n",
      "├─ReLU: 1-3                              [64, 64, 28, 28]          --\n",
      "├─MaxPool2d: 1-4                         [64, 64, 14, 14]          --\n",
      "├─Conv2d: 1-5                            [64, 128, 14, 14]         73,856\n",
      "├─BatchNorm2d: 1-6                       [64, 128, 14, 14]         256\n",
      "├─ReLU: 1-7                              [64, 128, 14, 14]         --\n",
      "├─MaxPool2d: 1-8                         [64, 128, 7, 7]           --\n",
      "├─Flatten: 1-9                           [64, 6272]                --\n",
      "├─Linear: 1-10                           [64, 128]                 802,944\n",
      "├─ReLU: 1-11                             [64, 128]                 --\n",
      "├─Linear: 1-12                           [64, 10]                  1,290\n",
      "==========================================================================================\n",
      "Total params: 879,114\n",
      "Trainable params: 879,114\n",
      "Non-trainable params: 0\n",
      "Total mult-adds (G): 1.01\n",
      "==========================================================================================\n",
      "Input size (MB): 0.20\n",
      "Forward/backward pass size (MB): 77.14\n",
      "Params size (MB): 3.52\n",
      "Estimated Total Size (MB): 80.86\n",
      "==========================================================================================\n"
     ]
    }
   ],
   "source": [
    "conv_model = BasicCNN(in_channels, num_classes)\n",
    "print(conv_model)\n",
    "print()\n",
    "print(summary(conv_model, input_size = (batch_size, 1, 28, 28)))"
   ]
  },
  {
   "cell_type": "code",
   "execution_count": 10,
   "metadata": {},
   "outputs": [
    {
     "name": "stdout",
     "output_type": "stream",
     "text": [
      "Loss: CrossEntropyLoss() | Optimizer: Adam (\n",
      "Parameter Group 0\n",
      "    amsgrad: False\n",
      "    betas: (0.9, 0.999)\n",
      "    capturable: False\n",
      "    differentiable: False\n",
      "    eps: 1e-08\n",
      "    foreach: None\n",
      "    fused: None\n",
      "    lr: 0.01\n",
      "    maximize: False\n",
      "    weight_decay: 0\n",
      ")\n"
     ]
    }
   ],
   "source": [
    "loss = nn.CrossEntropyLoss()\n",
    "optimizer = optim.Adam(conv_model.parameters(), lr = learning_rate)\n",
    "print(f\"Loss: {loss} | Optimizer: {optimizer}\")"
   ]
  },
  {
   "cell_type": "code",
   "execution_count": 11,
   "metadata": {},
   "outputs": [
    {
     "name": "stderr",
     "output_type": "stream",
     "text": [
      "100%|██████████| 10/10 [02:14<00:00, 13.41s/it]\n"
     ]
    }
   ],
   "source": [
    "#Training Loop\n",
    "losses = []\n",
    "accuracies = []\n",
    "loss_accumulation = 0\n",
    "correct = 0\n",
    "conv_model.to(device)\n",
    "conv_model.train()\n",
    "\n",
    "for epoch in tqdm(range(num_epochs)):\n",
    "    for batch_idx, (data, targets) in enumerate(train_loader):\n",
    "        data, targets = data.to(device), targets.to(device)\n",
    "\n",
    "        outputs = conv_model(data)\n",
    "        loss_batch = loss(outputs, targets)\n",
    "\n",
    "        optimizer.zero_grad()\n",
    "        loss_batch.backward()\n",
    "        optimizer.step()\n",
    "\n",
    "        loss_accumulation += loss_batch.item()\n",
    "        correct += (outputs.argmax(1) == targets).sum().item()\n",
    "    \n",
    "    losses.append(loss_accumulation/len(train_loader.dataset))\n",
    "    accuracies.append(correct / len(train_loader.dataset))        "
   ]
  },
  {
   "cell_type": "code",
   "execution_count": 12,
   "metadata": {},
   "outputs": [
    {
     "data": {
      "text/plain": [
       "Text(0, 0.5, 'Loss')"
      ]
     },
     "execution_count": 12,
     "metadata": {},
     "output_type": "execute_result"
    },
    {
     "data": {
      "image/png": "[encoded data removed]",
      "text/plain": [
       "<Figure size 640x480 with 1 Axes>"
      ]
     },
     "metadata": {},
     "output_type": "display_data"
    }
   ],
   "source": [
    "#Plotting Loss\n",
    "plt.plot(range(num_epochs), losses)\n",
    "plt.title(\"Loss Trend\")\n",
    "plt.xlabel(\"Epochs\")\n",
    "plt.ylabel(\"Loss\")"
   ]
  },
  {
   "cell_type": "code",
   "execution_count": 13,
   "metadata": {},
   "outputs": [
    {
     "data": {
      "text/plain": [
       "Text(0, 0.5, 'Accuracy')"
      ]
     },
     "execution_count": 13,
     "metadata": {},
     "output_type": "execute_result"
    },
    {
     "data": {
      "image/png": "[encoded data removed]",
      "text/plain": [
       "<Figure size 640x480 with 1 Axes>"
      ]
     },
     "metadata": {},
     "output_type": "display_data"
    }
   ],
   "source": [
    "#Plotting Accuracy\n",
    "plt.plot(range(num_epochs), accuracies)\n",
    "plt.title(\"Accuracy Trend\")\n",
    "plt.xlabel(\"Epochs\")\n",
    "plt.ylabel(\"Accuracy\")"
   ]
  },
  {
   "cell_type": "code",
   "execution_count": 14,
   "metadata": {},
   "outputs": [
    {
     "name": "stdout",
     "output_type": "stream",
     "text": [
      "Accuracy: 0.9865 | Total Loss: 0.0009266928806481019\n"
     ]
    }
   ],
   "source": [
    "#Eval Loop\n",
    "conv_model.eval()\n",
    "correct = 0\n",
    "total_loss = 0\n",
    "\n",
    "with torch.no_grad():\n",
    "    for batch_idx, (data, targets) in enumerate(test_loader):\n",
    "        data, targets = data.to(device), targets.to(device)\n",
    "\n",
    "        outputs = conv_model(data)\n",
    "        loss_batch = loss(outputs, targets)\n",
    "        \n",
    "        correct += (outputs.argmax(1) == targets).sum().item()\n",
    "        total_loss += loss_batch.item()\n",
    "print(f\"Accuracy: {correct/len(test_loader.dataset)} | Total Loss: {total_loss/len(test_loader.dataset)}\")\n"
   ]
  }
 ],
 "metadata": {
  "kernelspec": {
   "display_name": "Python 3",
   "language": "python",
   "name": "python3"
  },
  "language_info": {
   "codemirror_mode": {
    "name": "ipython",
    "version": 3
   },
   "file_extension": ".py",
   "mimetype": "text/x-python",
   "name": "python",
   "nbconvert_exporter": "python",
   "pygments_lexer": "ipython3",
   "version": "3.10.0"
  }
 },
 "nbformat": 4,
 "nbformat_minor": 2
}
