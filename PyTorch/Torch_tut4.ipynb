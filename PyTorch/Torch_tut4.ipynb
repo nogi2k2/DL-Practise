{
 "cells": [
  {
   "cell_type": "code",
   "execution_count": 3,
   "metadata": {},
   "outputs": [
    {
     "data": {
      "text/plain": [
       "'cuda'"
      ]
     },
     "execution_count": 3,
     "metadata": {},
     "output_type": "execute_result"
    }
   ],
   "source": [
    "import torch\n",
    "import torch.nn as nn\n",
    "import torchvision\n",
    "import torch.optim as optim\n",
    "import torch.nn.functional as F\n",
    "from torch.utils.data import DataLoader\n",
    "import torchvision.datasets as datasets\n",
    "import torchvision.transforms as transforms\n",
    "from torchinfo import summary\n",
    "import matplotlib.pyplot as plt\n",
    "from tqdm import tqdm\n",
    "\n",
    "device = \"cuda\" if torch.cuda.is_available() else \"cpu\"\n",
    "device"
   ]
  },
  {
   "cell_type": "code",
   "execution_count": 25,
   "metadata": {},
   "outputs": [],
   "source": [
    "batch_size = 64\n",
    "num_epochs = 5\n",
    "input_size = 28\n",
    "seq_len = 28\n",
    "num_layers = 2\n",
    "hidden_size = 256\n",
    "num_classes = 10\n",
    "learning_rate = 0.01"
   ]
  },
  {
   "cell_type": "code",
   "execution_count": 15,
   "metadata": {},
   "outputs": [],
   "source": [
    "class SimpleRNN(nn.Module):\n",
    "    def __init__(self, input_size, hidden_size, num_layers, num_classes): \n",
    "        super(SimpleRNN, self).__init__()\n",
    "        self.hidden_size = hidden_size \n",
    "        self.num_layers = num_layers\n",
    "        self.rnn = nn.RNN(input_size, hidden_size, num_layers, batch_first = True)\n",
    "        self.gru = nn.GRU(input_size, hidden_size, num_layers, batch_first = True)\n",
    "        self.lstm = nn.LSTM(input_size, hidden_size, num_layers, batch_first = True)\n",
    "        self.dense = nn.Linear(seq_len*hidden_size, num_classes)\n",
    "\n",
    "    def forward(self, input_tensor):\n",
    "        h0 = torch.zeros(self.num_layers, input_tensor.size(0), self.hidden_size).to(device)\n",
    "        c0 = torch.zeros(self.num_layers, input_tensor.size(0), self.hidden_size).to(device)\n",
    "        op1, _ = self.rnn(input_tensor, h0)\n",
    "        # op1, _ = self.gru(input_tensor, h0)\n",
    "        # op1, _ = self.lstm(input_tensor, (h0, c0))\n",
    "        op1 = op1.reshape(op1.shape[0], -1) \n",
    "        return self.dense(op1)"
   ]
  },
  {
   "cell_type": "code",
   "execution_count": 16,
   "metadata": {},
   "outputs": [],
   "source": [
    "train = datasets.MNIST(\"datasets/\", download = True, train = True, transform = transforms.ToTensor())\n",
    "test = datasets.MNIST(\"datasets/\", download = True, train = False, transform = transforms.ToTensor())\n",
    "train_loader = DataLoader(train, shuffle = True, batch_size = batch_size)\n",
    "test_loader = DataLoader(test, shuffle = True, batch_size = batch_size)"
   ]
  },
  {
   "cell_type": "code",
   "execution_count": 17,
   "metadata": {},
   "outputs": [
    {
     "name": "stdout",
     "output_type": "stream",
     "text": [
      "SimpleRNN(\n",
      "  (rnn): RNN(28, 256, num_layers=2, batch_first=True)\n",
      "  (dense): Linear(in_features=7168, out_features=10, bias=True)\n",
      ")\n",
      "\n",
      "==========================================================================================\n",
      "Layer (type:depth-idx)                   Output Shape              Param #\n",
      "==========================================================================================\n",
      "SimpleRNN                                [64, 10]                  --\n",
      "├─RNN: 1-1                               [64, 28, 256]             204,800\n",
      "├─Linear: 1-2                            [64, 10]                  71,690\n",
      "==========================================================================================\n",
      "Total params: 276,490\n",
      "Trainable params: 276,490\n",
      "Non-trainable params: 0\n",
      "Total mult-adds (M): 371.59\n",
      "==========================================================================================\n",
      "Input size (MB): 0.20\n",
      "Forward/backward pass size (MB): 3.68\n",
      "Params size (MB): 1.11\n",
      "Estimated Total Size (MB): 4.98\n",
      "==========================================================================================\n"
     ]
    }
   ],
   "source": [
    "model = SimpleRNN(input_size, hidden_size, num_layers, num_classes)\n",
    "print(model)\n",
    "print()\n",
    "print(summary(model, input_size = (batch_size, 28, 28)))"
   ]
  },
  {
   "cell_type": "code",
   "execution_count": 21,
   "metadata": {},
   "outputs": [
    {
     "name": "stdout",
     "output_type": "stream",
     "text": [
      "CrossEntropyLoss()\n",
      "\n",
      "Adam (\n",
      "Parameter Group 0\n",
      "    amsgrad: False\n",
      "    betas: (0.9, 0.999)\n",
      "    capturable: False\n",
      "    differentiable: False\n",
      "    eps: 1e-08\n",
      "    foreach: None\n",
      "    fused: None\n",
      "    lr: 0.01\n",
      "    maximize: False\n",
      "    weight_decay: 0\n",
      ")\n"
     ]
    }
   ],
   "source": [
    "loss_fn = nn.CrossEntropyLoss()\n",
    "optimizer = optim.Adam(model.parameters(), lr = learning_rate)\n",
    "\n",
    "print(loss_fn)\n",
    "print()\n",
    "print(optimizer)"
   ]
  },
  {
   "cell_type": "code",
   "execution_count": 31,
   "metadata": {},
   "outputs": [
    {
     "name": "stderr",
     "output_type": "stream",
     "text": [
      " 20%|██        | 1/5 [00:13<00:53, 13.30s/it]"
     ]
    },
    {
     "name": "stdout",
     "output_type": "stream",
     "text": [
      "Epoch: 0 | Loss: 36.077556377156576 | Accuracy: 10.036666666666667\n"
     ]
    },
    {
     "name": "stderr",
     "output_type": "stream",
     "text": [
      " 40%|████      | 2/5 [00:27<00:40, 13.66s/it]"
     ]
    },
    {
     "name": "stdout",
     "output_type": "stream",
     "text": [
      "Epoch: 1 | Loss: 36.48153451843262 | Accuracy: 10.038333333333334\n"
     ]
    },
    {
     "name": "stderr",
     "output_type": "stream",
     "text": [
      " 60%|██████    | 3/5 [00:42<00:28, 14.31s/it]"
     ]
    },
    {
     "name": "stdout",
     "output_type": "stream",
     "text": [
      "Epoch: 2 | Loss: 36.426102736409504 | Accuracy: 10.08\n"
     ]
    },
    {
     "name": "stderr",
     "output_type": "stream",
     "text": [
      " 80%|████████  | 4/5 [00:56<00:14, 14.28s/it]"
     ]
    },
    {
     "name": "stdout",
     "output_type": "stream",
     "text": [
      "Epoch: 3 | Loss: 36.365765553792315 | Accuracy: 10.096666666666666\n"
     ]
    },
    {
     "name": "stderr",
     "output_type": "stream",
     "text": [
      "100%|██████████| 5/5 [01:10<00:00, 14.13s/it]"
     ]
    },
    {
     "name": "stdout",
     "output_type": "stream",
     "text": [
      "Epoch: 4 | Loss: 38.06923932495117 | Accuracy: 9.846666666666666\n"
     ]
    },
    {
     "name": "stderr",
     "output_type": "stream",
     "text": [
      "\n"
     ]
    }
   ],
   "source": [
    "#Training Loop\n",
    "model.to(device)\n",
    "model.train()\n",
    "losses = []\n",
    "accuracies = []\n",
    "loss_epoch = 0\n",
    "correct = 0\n",
    "for epoch in tqdm(range(num_epochs)):\n",
    "    loss_epoch = 0\n",
    "    correct = 0\n",
    "    for batch_idx, (x, y) in enumerate(train_loader):\n",
    "        x, y = x.to(device).squeeze(1), y.to(device)\n",
    "        y_pred = model(x)\n",
    "        loss_batch = loss_fn(y_pred, y)\n",
    "        optimizer.zero_grad()\n",
    "        loss_batch.backward()\n",
    "        optimizer.step()\n",
    "\n",
    "        loss_epoch += loss_batch.item() * x.size(0)\n",
    "        correct += (y_pred.argmax(1) == y).sum().item()\n",
    "\n",
    "    losses.append(loss_epoch/len(train_loader.dataset))\n",
    "    accuracies.append(correct/len(train_loader.dataset) * 100)\n",
    "    print(f\"Epoch: {epoch} | Loss: {loss_epoch/len(train_loader.dataset)} | Accuracy: {correct/len(train_loader.dataset) * 100}\")"
   ]
  },
  {
   "cell_type": "code",
   "execution_count": 32,
   "metadata": {},
   "outputs": [
    {
     "data": {
      "text/plain": [
       "Text(0, 0.5, 'Loss')"
      ]
     },
     "execution_count": 32,
     "metadata": {},
     "output_type": "execute_result"
    },
    {
     "data": {
      "image/png": "[encoded data removed]",
      "text/plain": [
       "<Figure size 640x480 with 1 Axes>"
      ]
     },
     "metadata": {},
     "output_type": "display_data"
    }
   ],
   "source": [
    "plt.plot(range(num_epochs), losses)\n",
    "plt.title(\"Loss Trend\")\n",
    "plt.xlabel(\"Epochs\")\n",
    "plt.ylabel(\"Loss\")"
   ]
  },
  {
   "cell_type": "code",
   "execution_count": 33,
   "metadata": {},
   "outputs": [
    {
     "data": {
      "text/plain": [
       "Text(0, 0.5, 'Accuracy')"
      ]
     },
     "execution_count": 33,
     "metadata": {},
     "output_type": "execute_result"
    },
    {
     "data": {
      "image/png": "[encoded data removed]",
      "text/plain": [
       "<Figure size 640x480 with 1 Axes>"
      ]
     },
     "metadata": {},
     "output_type": "display_data"
    }
   ],
   "source": [
    "plt.plot(range(num_epochs), accuracies)\n",
    "plt.title(\"Accuracy Trend\")\n",
    "plt.xlabel(\"Epochs\")\n",
    "plt.ylabel(\"Accuracy\")"
   ]
  },
  {
   "cell_type": "code",
   "execution_count": 36,
   "metadata": {},
   "outputs": [
    {
     "name": "stdout",
     "output_type": "stream",
     "text": [
      "Loss: 35.47266624755859 | Accuracy: 9.82\n"
     ]
    }
   ],
   "source": [
    "#Testing Loop\n",
    "model.eval()\n",
    "total_loss = 0\n",
    "correct = 0\n",
    "with torch.no_grad():\n",
    "    for batch_idx, (x, y) in enumerate(test_loader):\n",
    "        x, y = x.to(device).squeeze(1), y.to(device)\n",
    "        y_pred = model(x)\n",
    "        loss_batch = loss_fn(y_pred, y)\n",
    "\n",
    "        total_loss += loss_batch.item() * x.size(0)\n",
    "        correct += (y_pred.argmax(1) == y).sum().item()\n",
    "\n",
    "print(f\"Loss: {total_loss/len(test_loader.dataset)} | Accuracy: {correct/len(test_loader.dataset) * 100}\")"
   ]
  }
 ],
 "metadata": {
  "kernelspec": {
   "display_name": "Python 3",
   "language": "python",
   "name": "python3"
  },
  "language_info": {
   "codemirror_mode": {
    "name": "ipython",
    "version": 3
   },
   "file_extension": ".py",
   "mimetype": "text/x-python",
   "name": "python",
   "nbconvert_exporter": "python",
   "pygments_lexer": "ipython3",
   "version": "3.10.0"
  }
 },
 "nbformat": 4,
 "nbformat_minor": 2
}
