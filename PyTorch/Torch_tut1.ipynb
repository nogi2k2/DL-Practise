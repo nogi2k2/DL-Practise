{
 "cells": [
  {
   "cell_type": "code",
   "execution_count": 1,
   "id": "45f14729-7f6a-45a7-956a-3f9d47560502",
   "metadata": {},
   "outputs": [],
   "source": [
    "import torch\n",
    "import tensorflow as tf\n",
    "import numpy as np"
   ]
  },
  {
   "cell_type": "code",
   "execution_count": 2,
   "id": "0af1974f-ef10-4490-bf41-13977203700b",
   "metadata": {},
   "outputs": [
    {
     "name": "stdout",
     "output_type": "stream",
     "text": [
      "cuda\n"
     ]
    }
   ],
   "source": [
    "device = 'cuda' if torch.cuda.is_available() else 'cpu'\n",
    "print(device)"
   ]
  },
  {
   "cell_type": "code",
   "execution_count": 22,
   "id": "445ab29d-63a1-47d2-b464-4846c57d5806",
   "metadata": {},
   "outputs": [
    {
     "name": "stdout",
     "output_type": "stream",
     "text": [
      "tensor(1., device='cuda:0')\n",
      "tf.Tensor(1.0, shape=(), dtype=float32)\n",
      "tensor([[1., 2., 3.],\n",
      "        [4., 5., 6.]], device='cuda:0', requires_grad=True)\n",
      "tf.Tensor(\n",
      "[[1 2 3]\n",
      " [4 5 6]], shape=(2, 3), dtype=int32)\n"
     ]
    }
   ],
   "source": [
    "tens1 = torch.tensor(1, dtype = torch.float32, device = device)\n",
    "tens2 = torch.tensor([[1,2,3], [4,5,6]], dtype=torch.float32, device = device, requires_grad = True)\n",
    "tens1tf = tf.constant(1, dtype = tf.float32)\n",
    "tens2tf = tf.constant([[1,2,3], [4,5,6]])\n",
    "print(tens1)\n",
    "print(tens1tf)\n",
    "print(tens2)\n",
    "print(tens2tf)"
   ]
  },
  {
   "cell_type": "code",
   "execution_count": 23,
   "id": "01957c8c-5545-405b-b600-e5f8df0c9cf1",
   "metadata": {},
   "outputs": [
    {
     "name": "stdout",
     "output_type": "stream",
     "text": [
      "torch.Size([])\n",
      "cuda:0\n",
      "torch.float32\n",
      "False\n"
     ]
    }
   ],
   "source": [
    "print(tens1.shape)\n",
    "print(tens1.device)\n",
    "print(tens1.dtype)\n",
    "print(tens1.requires_grad)"
   ]
  },
  {
   "cell_type": "code",
   "execution_count": 39,
   "id": "c46f495f-6feb-46c0-a024-f4226953587e",
   "metadata": {},
   "outputs": [
    {
     "name": "stdout",
     "output_type": "stream",
     "text": [
      "tensor([[0., 0., 0., 0.],\n",
      "        [0., 0., 0., 0.],\n",
      "        [0., 0., 0., 0.]])\n",
      "tf.Tensor(\n",
      "[[0. 0. 0. 0.]\n",
      " [0. 0. 0. 0.]\n",
      " [0. 0. 0. 0.]], shape=(3, 4), dtype=float32)\n"
     ]
    }
   ],
   "source": [
    "x = torch.empty((3,3))\n",
    "xpt = torch.zeros((3,4))\n",
    "xtf = tf.zeros((3,4))\n",
    "xptones = torch.ones((3,3))\n",
    "xtfones = tf.ones((3,3))\n",
    "xpteye = torch.eye(3)\n",
    "xtfeye = tf.eye(3)\n",
    "print(xpt)\n",
    "print(xtf)"
   ]
  },
  {
   "cell_type": "code",
   "execution_count": 45,
   "id": "b626eddf-cd0c-4ab0-b54e-aab54bf2127e",
   "metadata": {},
   "outputs": [
    {
     "name": "stdout",
     "output_type": "stream",
     "text": [
      "tf.Tensor(\n",
      "[[-0.2538386  -0.64891595  1.5264726 ]\n",
      " [ 0.4531372   1.3167349   0.3760536 ]\n",
      " [-2.9439514   0.09924171  0.6264253 ]\n",
      " [-2.099515    1.09325    -0.05281485]], shape=(4, 3), dtype=float32) tf.Tensor(\n",
      "[[0.81563425 0.96713245 0.7361884 ]\n",
      " [0.23722792 0.5479001  0.5027299 ]\n",
      " [0.50759006 0.2944224  0.16152191]\n",
      " [0.3025427  0.23408353 0.89145076]], shape=(4, 3), dtype=float32)\n",
      "tensor([[ 1.3588,  0.0400,  0.6632],\n",
      "        [ 1.2133,  0.4682,  0.5988],\n",
      "        [-0.0749, -0.4393,  1.2847],\n",
      "        [ 0.9672,  2.5693,  0.3326]]) tensor([[0.2408, 0.0113, 0.5542],\n",
      "        [0.7108, 0.6557, 0.7870],\n",
      "        [0.7071, 0.7731, 0.4618],\n",
      "        [0.2335, 0.1085, 0.4727]])\n"
     ]
    }
   ],
   "source": [
    "xrand_norm = tf.random.normal((4,3))\n",
    "xrand_uniform = tf.random.uniform((4,3))\n",
    "xptuniform = torch.rand((4,3)) # uniform distribution\n",
    "xptrand = torch.normal(mean = 0, std = 1, size = (4,3)) # normal distribution\n",
    "print(xrand_norm, xrand_uniform)\n",
    "print(xptrand, xptuniform)"
   ]
  },
  {
   "cell_type": "code",
   "execution_count": 43,
   "id": "2c44c22b-2c84-4662-b566-320708e03490",
   "metadata": {},
   "outputs": [
    {
     "name": "stdout",
     "output_type": "stream",
     "text": [
      "tensor([0, 2, 4, 6, 8])\n",
      "tensor([0.1000, 0.2000, 0.3000, 0.4000, 0.5000, 0.6000, 0.7000, 0.8000, 0.9000,\n",
      "        1.0000])\n"
     ]
    }
   ],
   "source": [
    "#range function:\n",
    "range = torch.arange(0,10, 2)\n",
    "linspace = torch.linspace(0.1,1,10)\n",
    "print(range)\n",
    "print(linspace)"
   ]
  },
  {
   "cell_type": "code",
   "execution_count": 49,
   "id": "9955fcc0-b86a-4f30-95db-a5d6695e3b32",
   "metadata": {},
   "outputs": [
    {
     "name": "stdout",
     "output_type": "stream",
     "text": [
      "tensor([[1., 0., 0.],\n",
      "        [0., 1., 0.],\n",
      "        [0., 0., 1.]])\n",
      "\n",
      "tensor([[1., 0., 0.],\n",
      "        [0., 1., 0.],\n",
      "        [0., 0., 1.]])\n"
     ]
    }
   ],
   "source": [
    "identity = torch.diag(torch.ones(3))\n",
    "identity_alt = torch.eye(3)\n",
    "print(identity)\n",
    "print()\n",
    "print(identity_alt)"
   ]
  },
  {
   "cell_type": "code",
   "execution_count": 66,
   "id": "52dc75dc-226b-4049-ad4e-f5ba1ca1deed",
   "metadata": {},
   "outputs": [
    {
     "name": "stdout",
     "output_type": "stream",
     "text": [
      "tf.Tensor([1 2 3], shape=(3,), dtype=int32)\n",
      "tf.Tensor([1 2 3], shape=(3,), dtype=int64)\n",
      "\n",
      "tensor([1, 2, 3], dtype=torch.int32)\n",
      "tensor: tensor([1, 2, 3]) | dtype: torch.int64\n"
     ]
    }
   ],
   "source": [
    "example = tf.constant([1,2,3], dtype = tf.int32)\n",
    "print(example)\n",
    "example = tf.cast(example, tf.int64)\n",
    "print(example)\n",
    "print()\n",
    "\n",
    "examplept = torch.tensor([1,2,3], dtype = torch.int32)\n",
    "print(examplept)\n",
    "examplept = examplept.type(dtype = torch.int64)\n",
    "print(f\"tensor: {examplept} | dtype: {examplept.dtype}\")\n",
    "\n",
    "# tensor.bool() = boolean\n",
    "# tensor.short() - int16\n",
    "# tensor.long() - int64\n",
    "# tensor.half() - float16\n",
    "# tensor.float() - float32\n",
    "# tensor.double() - float64"
   ]
  },
  {
   "cell_type": "code",
   "execution_count": 81,
   "id": "e8ba3ad6-56ed-4bcf-bdee-865cace0e0ef",
   "metadata": {},
   "outputs": [
    {
     "name": "stdout",
     "output_type": "stream",
     "text": [
      "[1 2 3 4]\n",
      "Numpy array: [1 2 3 4] | torch tensor: tensor([1, 2, 3, 4], dtype=torch.int32) | back to np: [1 2 3 4]\n",
      "Numpy array: [1 2 3 4] | tf tensor: [1 2 3 4] | back to np: [1 2 3 4]\n"
     ]
    }
   ],
   "source": [
    "np_array = np.array([1,2,3,4])\n",
    "print(np_array)\n",
    "tens = torch.from_numpy(np_array)\n",
    "az = tf.convert_to_tensor(np_array)\n",
    "np_back_tf = az.numpy()\n",
    "np_back = tens.numpy()\n",
    "print(f\"Numpy array: {np_array} | torch tensor: {tens} | back to np: {np_back}\")\n",
    "print(f\"Numpy array: {np_array} | tf tensor: {az} | back to np: {np_back_tf}\")"
   ]
  },
  {
   "cell_type": "code",
   "execution_count": 74,
   "id": "e991e08c-9f0f-4c76-a131-fed4049a5849",
   "metadata": {},
   "outputs": [
    {
     "name": "stdout",
     "output_type": "stream",
     "text": [
      "tensor([5, 7, 9])\n",
      "tensor([-3, -3, -3])\n",
      "tensor([ 4, 10, 18])\n",
      "tensor([0.2500, 0.4000, 0.5000])\n",
      "\n",
      "tensor([5, 7, 9])\n",
      "tf.Tensor([5 7 9], shape=(3,), dtype=int64)\n",
      "tensor([-3, -3, -3])\n",
      "tf.Tensor([-3 -3 -3], shape=(3,), dtype=int64)\n",
      "tensor([ 4, 10, 18])\n",
      "tf.Tensor([ 4 10 18], shape=(3,), dtype=int64)\n",
      "tensor([4.0000, 2.5000, 2.0000])\n",
      "tf.Tensor([4.  2.5 2. ], shape=(3,), dtype=float64)\n"
     ]
    }
   ],
   "source": [
    "one = torch.tensor([1,2,3])\n",
    "two = torch.tensor([4,5,6])\n",
    "print(one+two)\n",
    "print(one-two)\n",
    "print(one*two)\n",
    "print(one/two)\n",
    "print()\n",
    "print(torch.add(one, two))\n",
    "print(tf.add(one,two))\n",
    "print(torch.subtract(one, two))\n",
    "print(tf.subtract(one,two))\n",
    "print(torch.multiply(one, two))\n",
    "print(tf.multiply(one, two))\n",
    "print(torch.divide(two, one))\n",
    "print(tf.divide(two, one))"
   ]
  },
  {
   "cell_type": "code",
   "execution_count": 79,
   "id": "6d002b84-46d6-4c03-9a63-442269f5e561",
   "metadata": {},
   "outputs": [
    {
     "name": "stdout",
     "output_type": "stream",
     "text": [
      "tensor([[ 30,  36,  42],\n",
      "        [ 66,  81,  96],\n",
      "        [102, 126, 150]])\n",
      "tensor([[ 30,  36,  42],\n",
      "        [ 66,  81,  96],\n",
      "        [102, 126, 150]])\n",
      "tf.Tensor(\n",
      "[[ 30  36  42]\n",
      " [ 66  81  96]\n",
      " [102 126 150]], shape=(3, 3), dtype=int64)\n"
     ]
    }
   ],
   "source": [
    "mat1 = torch.tensor([[1,2,3],[4,5,6],[7,8,9]])\n",
    "mat2 = torch.tensor([[1,2,3],[4,5,6],[7,8,9]])\n",
    "print(torch.matmul(mat1,mat2))\n",
    "print(mat1 @ mat2)\n",
    "print(tf.matmul(mat1, mat2))"
   ]
  },
  {
   "cell_type": "code",
   "execution_count": 87,
   "id": "adb74b8f-fc22-4126-8924-be5e9010c36f",
   "metadata": {},
   "outputs": [
    {
     "name": "stdout",
     "output_type": "stream",
     "text": [
      "tensor([1., 2., 3.])\n",
      "tensor([1., 2., 3.])\n",
      "tensor([1., 2., 3.])\n",
      "tensor([[1., 2., 3.],\n",
      "        [4., 5., 6.],\n",
      "        [7., 8., 9.]])\n"
     ]
    }
   ],
   "source": [
    "# Division of row tensor by a tensor\n",
    "\n",
    "single = torch.tensor(2)\n",
    "one_t = torch.tensor([2,4,6])\n",
    "mat = torch.tensor([[2,4,6],[8,10,12],[14,16,18]])\n",
    "res = torch.divide(one_t, single)\n",
    "print(res)\n",
    "print(one_t/single)\n",
    "print(torch.true_divide(one_t, single))\n",
    "print(torch.divide(mat, single))"
   ]
  },
  {
   "cell_type": "code",
   "execution_count": 91,
   "id": "3cdfe1f2-c38e-456f-bd77-69d7d1df9959",
   "metadata": {},
   "outputs": [
    {
     "name": "stdout",
     "output_type": "stream",
     "text": [
      "tensor([4, 5, 6])\n",
      "tensor([7, 8, 9])\n"
     ]
    }
   ],
   "source": [
    "# Performing arithmetic operations inplace (mutates the original tensor)\n",
    "example1 = torch.tensor([1,2,3])\n",
    "print(example1.add_(3))\n",
    "example1 += 3\n",
    "print(example1)"
   ]
  },
  {
   "cell_type": "code",
   "execution_count": 94,
   "id": "ceed669e-9002-42fa-8a7a-f42fe21ed9e9",
   "metadata": {},
   "outputs": [
    {
     "name": "stdout",
     "output_type": "stream",
     "text": [
      "tensor(4)\n",
      "tensor([[ 30,  36,  42],\n",
      "        [ 66,  81,  96],\n",
      "        [102, 126, 150]])\n"
     ]
    }
   ],
   "source": [
    "matex = torch.tensor([[1,2,3],[4,5,6],[7,8,9]])\n",
    "simple = torch.tensor(2)\n",
    "print(simple.pow(2))\n",
    "print(matex.matrix_power(2))"
   ]
  },
  {
   "cell_type": "code",
   "execution_count": 98,
   "id": "5c0bb202-3fe4-42dc-ab1c-e5222a4ba2fa",
   "metadata": {},
   "outputs": [
    {
     "name": "stdout",
     "output_type": "stream",
     "text": [
      "tensor(32)\n",
      "tf.Tensor(32, shape=(), dtype=int64)\n"
     ]
    }
   ],
   "source": [
    "#Dot product of tensors:\n",
    "pt1 = torch.tensor([1,2,3])\n",
    "pt2 = torch.tensor([4,5,6])\n",
    "print(torch.dot(pt1, pt2))\n",
    "print(tf.tensordot(pt1, pt2, axes = 1))"
   ]
  },
  {
   "cell_type": "code",
   "execution_count": 100,
   "id": "45a02004-20f9-49bf-a04b-1e1add6fa5cf",
   "metadata": {},
   "outputs": [
    {
     "name": "stdout",
     "output_type": "stream",
     "text": [
      "tensor([[[0.8910, 2.0133, 1.5690, 0.6517, 1.5405],\n",
      "         [0.4572, 0.7181, 1.0472, 0.7131, 0.6637],\n",
      "         [0.3617, 0.8737, 0.8061, 0.3801, 0.6601]],\n",
      "\n",
      "        [[1.3100, 0.2838, 0.3659, 1.2619, 0.8020],\n",
      "         [0.9723, 0.5519, 0.1918, 0.9071, 0.5409],\n",
      "         [1.0347, 0.7678, 0.2028, 0.9828, 0.3636]],\n",
      "\n",
      "        [[1.3695, 0.3335, 1.3687, 0.8022, 0.8946],\n",
      "         [1.7521, 0.5171, 1.8531, 0.7518, 1.1197],\n",
      "         [0.7124, 0.1827, 0.8778, 0.3216, 0.5289]],\n",
      "\n",
      "        [[0.7737, 0.3281, 0.8125, 0.4786, 1.0159],\n",
      "         [1.0142, 0.4942, 1.0664, 0.6444, 1.2991],\n",
      "         [0.5651, 0.3993, 0.5419, 1.1577, 0.6780]],\n",
      "\n",
      "        [[1.4264, 2.2184, 1.4830, 0.9654, 1.0331],\n",
      "         [0.4649, 0.6569, 0.3920, 0.2813, 0.2117],\n",
      "         [1.7042, 2.0801, 1.6051, 0.8015, 1.1995]],\n",
      "\n",
      "        [[0.8773, 0.4449, 0.6378, 0.6127, 0.2431],\n",
      "         [1.8237, 1.0940, 1.2063, 1.7129, 0.7232],\n",
      "         [0.9948, 0.4282, 0.3902, 0.8702, 0.5345]],\n",
      "\n",
      "        [[1.7154, 1.6665, 1.2460, 1.5478, 2.1924],\n",
      "         [0.8683, 0.8837, 0.5492, 0.8245, 1.1124],\n",
      "         [0.9286, 1.3351, 0.8395, 1.0045, 1.6256]],\n",
      "\n",
      "        [[0.3447, 0.2175, 0.4359, 0.3762, 0.5401],\n",
      "         [0.5867, 0.7149, 0.1021, 0.8055, 0.6950],\n",
      "         [1.0980, 1.0413, 0.2081, 1.2332, 1.2308]],\n",
      "\n",
      "        [[1.3416, 1.6511, 1.3243, 1.1009, 1.5784],\n",
      "         [0.7317, 0.8107, 0.6628, 0.5518, 0.6361],\n",
      "         [1.1109, 1.2195, 0.9604, 0.8094, 0.7196]],\n",
      "\n",
      "        [[0.2724, 0.9551, 0.9133, 0.6142, 0.7560],\n",
      "         [0.3533, 0.9789, 1.2098, 0.7802, 1.2433],\n",
      "         [0.2933, 0.7912, 1.0136, 0.6406, 1.0445]],\n",
      "\n",
      "        [[1.4917, 0.7562, 0.5019, 1.2367, 0.9208],\n",
      "         [1.9877, 1.2142, 0.7291, 1.7635, 1.6675],\n",
      "         [1.2160, 0.7766, 0.7193, 1.4149, 0.9999]],\n",
      "\n",
      "        [[1.5040, 1.2482, 1.4622, 1.2802, 1.3912],\n",
      "         [1.4332, 0.6230, 1.4475, 1.0577, 1.2667],\n",
      "         [0.6539, 0.2795, 0.7683, 0.6168, 0.5703]],\n",
      "\n",
      "        [[0.5540, 0.9042, 1.1980, 1.0799, 1.0482],\n",
      "         [0.3576, 1.3080, 1.2767, 1.2383, 1.1629],\n",
      "         [0.2365, 1.0998, 0.9962, 0.9690, 0.8735]],\n",
      "\n",
      "        [[0.8730, 0.6653, 0.7793, 1.1337, 0.5310],\n",
      "         [1.4909, 1.2760, 1.4542, 1.3626, 0.8235],\n",
      "         [0.6786, 0.4804, 0.6004, 0.9700, 0.4100]],\n",
      "\n",
      "        [[0.8543, 0.9161, 1.1116, 1.2269, 1.1474],\n",
      "         [0.9965, 1.0993, 1.2662, 1.1595, 0.9941],\n",
      "         [1.0646, 1.1424, 1.3392, 1.4708, 1.4270]],\n",
      "\n",
      "        [[1.5761, 0.7531, 1.5065, 1.5528, 1.1647],\n",
      "         [1.5398, 0.7495, 1.3741, 1.5064, 1.0463],\n",
      "         [1.1080, 0.4320, 1.2244, 0.8696, 1.0155]],\n",
      "\n",
      "        [[2.0101, 1.4835, 1.1104, 1.0480, 1.7025],\n",
      "         [2.0293, 1.5123, 1.1209, 1.1340, 1.7556],\n",
      "         [1.7252, 1.3777, 0.9373, 1.3773, 1.8519]],\n",
      "\n",
      "        [[1.2846, 1.1839, 1.0737, 1.3076, 2.0945],\n",
      "         [0.2704, 0.5284, 0.5222, 0.3667, 0.5691],\n",
      "         [1.1883, 1.1473, 0.5742, 1.0795, 1.7441]],\n",
      "\n",
      "        [[1.2115, 1.5138, 0.8966, 1.1028, 0.9716],\n",
      "         [1.3046, 1.2130, 1.0856, 1.4457, 0.6358],\n",
      "         [0.7994, 0.7578, 0.4252, 0.6860, 0.4182]],\n",
      "\n",
      "        [[0.8491, 0.9090, 0.9498, 0.9724, 1.0277],\n",
      "         [0.6534, 1.1959, 0.6960, 0.7873, 1.1718],\n",
      "         [0.7847, 0.9566, 0.9254, 0.9184, 0.9844]],\n",
      "\n",
      "        [[1.8291, 0.6523, 1.8781, 1.3109, 0.7012],\n",
      "         [1.6101, 0.6906, 1.8483, 1.2546, 0.7137],\n",
      "         [0.9858, 0.2494, 1.2595, 0.5283, 0.3377]],\n",
      "\n",
      "        [[1.9687, 1.6158, 1.3353, 1.5916, 1.5944],\n",
      "         [0.7635, 0.6820, 0.4607, 0.4698, 0.5715],\n",
      "         [1.7639, 1.1364, 0.9465, 1.1625, 1.0942]],\n",
      "\n",
      "        [[0.7608, 1.0938, 0.6765, 0.9294, 1.2843],\n",
      "         [0.8049, 0.9645, 0.6315, 0.6924, 1.2030],\n",
      "         [1.7996, 1.6918, 1.2028, 0.9903, 2.2363]],\n",
      "\n",
      "        [[0.6783, 0.9626, 1.1264, 0.6206, 0.8583],\n",
      "         [1.4955, 1.1148, 1.0931, 1.4777, 1.5300],\n",
      "         [1.0425, 1.2464, 1.3766, 0.9866, 1.2260]],\n",
      "\n",
      "        [[1.0078, 1.3827, 0.8086, 1.1473, 1.5312],\n",
      "         [1.1724, 1.2625, 0.8803, 1.1969, 1.2384],\n",
      "         [0.9093, 1.5198, 0.9604, 1.2720, 1.6622]],\n",
      "\n",
      "        [[1.3386, 1.7678, 0.8472, 2.2778, 1.4071],\n",
      "         [1.6359, 1.9247, 0.8074, 2.2927, 1.1189],\n",
      "         [0.9252, 1.2868, 0.9811, 1.8556, 0.8658]],\n",
      "\n",
      "        [[0.8739, 0.9282, 1.0059, 1.0718, 0.3084],\n",
      "         [1.2823, 1.1807, 1.1305, 1.1943, 0.3847],\n",
      "         [0.8514, 0.7880, 0.7329, 0.8893, 0.3123]],\n",
      "\n",
      "        [[1.5665, 1.3452, 1.1783, 0.9013, 1.1058],\n",
      "         [1.0591, 0.5739, 0.7089, 0.2039, 0.6223],\n",
      "         [1.9894, 1.0159, 1.6861, 0.8548, 1.6711]],\n",
      "\n",
      "        [[1.3399, 1.7077, 1.1241, 0.6139, 1.5481],\n",
      "         [0.6754, 1.2373, 0.7109, 0.3511, 1.2179],\n",
      "         [1.1706, 1.8790, 1.0615, 1.2661, 1.8180]],\n",
      "\n",
      "        [[0.7893, 1.0643, 1.3979, 0.8145, 1.5746],\n",
      "         [1.0897, 1.0700, 1.3857, 1.1654, 1.8945],\n",
      "         [0.2336, 0.2753, 0.3821, 0.2592, 0.4643]],\n",
      "\n",
      "        [[1.5340, 1.3208, 1.9761, 2.0910, 1.0264],\n",
      "         [0.5199, 0.5055, 0.9587, 0.8926, 0.3402],\n",
      "         [1.0825, 1.1882, 1.2224, 1.5682, 0.7476]],\n",
      "\n",
      "        [[0.6225, 0.6323, 0.4284, 0.3744, 0.3635],\n",
      "         [0.9046, 1.2479, 0.8719, 0.6952, 0.6332],\n",
      "         [0.4773, 0.5584, 0.3938, 0.3292, 0.3167]]])\n",
      "\n",
      "tf.Tensor(\n",
      "[[[0.89103806 2.0132537  1.5690212  0.6516598  1.5404564 ]\n",
      "  [0.45720616 0.7181033  1.0471823  0.71310294 0.6637479 ]\n",
      "  [0.36165357 0.8737257  0.80605656 0.38009506 0.66014206]]\n",
      "\n",
      " [[1.3100317  0.2837653  0.36587352 1.2619197  0.8019802 ]\n",
      "  [0.97225827 0.55185884 0.19184732 0.90709436 0.5409245 ]\n",
      "  [1.0347359  0.7677736  0.20283756 0.9828155  0.3636479 ]]\n",
      "\n",
      " [[1.3694775  0.33346415 1.3686641  0.802225   0.8946055 ]\n",
      "  [1.7520809  0.5170589  1.8531295  0.7518395  1.119737  ]\n",
      "  [0.71236396 0.182672   0.877825   0.32161802 0.5289274 ]]\n",
      "\n",
      " [[0.77365506 0.3280936  0.8125305  0.47861865 1.015882  ]\n",
      "  [1.0142108  0.49416417 1.0664427  0.6443912  1.2991364 ]\n",
      "  [0.56512666 0.3993458  0.54189694 1.1576653  0.6779805 ]]\n",
      "\n",
      " [[1.4264328  2.218412   1.4830105  0.9653657  1.0330577 ]\n",
      "  [0.46487406 0.656883   0.39202893 0.28125364 0.21165107]\n",
      "  [1.7042222  2.0801022  1.6051165  0.8015342  1.199491  ]]\n",
      "\n",
      " [[0.877327   0.4448694  0.6378359  0.61266494 0.24312586]\n",
      "  [1.823729   1.0939832  1.206259   1.7128649  0.7232177 ]\n",
      "  [0.9947529  0.4281585  0.39022174 0.87015224 0.53453815]]\n",
      "\n",
      " [[1.7154212  1.6665055  1.2460427  1.5477822  2.1923604 ]\n",
      "  [0.86828935 0.8836596  0.54918015 0.8244693  1.1124345 ]\n",
      "  [0.92863953 1.3351121  0.8394941  1.0045346  1.6256399 ]]\n",
      "\n",
      " [[0.34473234 0.2175299  0.4358857  0.37616706 0.5401192 ]\n",
      "  [0.5867321  0.7148648  0.10205882 0.80554396 0.6950394 ]\n",
      "  [1.0980365  1.041273   0.20810848 1.233198   1.2308328 ]]\n",
      "\n",
      " [[1.3416352  1.6510649  1.324345   1.1008705  1.5783868 ]\n",
      "  [0.7316575  0.8107066  0.66284955 0.5517615  0.63611364]\n",
      "  [1.1109383  1.2195345  0.96040785 0.80944157 0.719551  ]]\n",
      "\n",
      " [[0.2723534  0.9550529  0.91333705 0.6141511  0.7559615 ]\n",
      "  [0.3532923  0.9789034  1.2097875  0.7802452  1.2433147 ]\n",
      "  [0.29329073 0.79121864 1.0135505  0.64063454 1.0444641 ]]\n",
      "\n",
      " [[1.4916726  0.7561501  0.50193    1.2367144  0.92079157]\n",
      "  [1.9876881  1.2141715  0.72910273 1.7634852  1.6674931 ]\n",
      "  [1.2160301  0.7765658  0.7192755  1.4149141  0.9998563 ]]\n",
      "\n",
      " [[1.5040467  1.2482276  1.4622334  1.2801816  1.3912072 ]\n",
      "  [1.4331512  0.622985   1.4474664  1.0576928  1.2666909 ]\n",
      "  [0.65390956 0.2795034  0.76834303 0.61683565 0.5702617 ]]\n",
      "\n",
      " [[0.55399716 0.9041616  1.1980393  1.0799129  1.0482043 ]\n",
      "  [0.35763016 1.3079735  1.2766913  1.2383188  1.1629046 ]\n",
      "  [0.23648024 1.0998436  0.9962173  0.9689926  0.87347656]]\n",
      "\n",
      " [[0.8730291  0.66526926 0.77930033 1.1337076  0.5309749 ]\n",
      "  [1.4909437  1.276006   1.4541614  1.3625638  0.8235146 ]\n",
      "  [0.6786193  0.48037964 0.6003602  0.9699805  0.4099776 ]]\n",
      "\n",
      " [[0.8542512  0.9160651  1.1116356  1.2269025  1.1474056 ]\n",
      "  [0.99654573 1.0993297  1.2661773  1.1594682  0.9941179 ]\n",
      "  [1.0645515  1.1424257  1.339158   1.4708135  1.426961  ]]\n",
      "\n",
      " [[1.5761395  0.75309265 1.5064857  1.5527964  1.1646649 ]\n",
      "  [1.5397903  0.7495253  1.3740977  1.5063899  1.046278  ]\n",
      "  [1.1080453  0.432023   1.2243848  0.86960304 1.0154794 ]]\n",
      "\n",
      " [[2.0100627  1.4835285  1.1104469  1.0479732  1.7024612 ]\n",
      "  [2.0293405  1.5123174  1.120899   1.1339933  1.7555516 ]\n",
      "  [1.7251596  1.377681   0.93732494 1.3772831  1.8519336 ]]\n",
      "\n",
      " [[1.2846129  1.183887   1.0737265  1.307605   2.09449   ]\n",
      "  [0.27035746 0.52839506 0.52216727 0.36672506 0.5691157 ]\n",
      "  [1.1883245  1.1472619  0.574157   1.0795467  1.7440715 ]]\n",
      "\n",
      " [[1.2115401  1.5138216  0.89664745 1.10285    0.9715525 ]\n",
      "  [1.3045996  1.2130132  1.0856135  1.4457335  0.63580537]\n",
      "  [0.79937875 0.7577838  0.42522746 0.6859571  0.41821188]]\n",
      "\n",
      " [[0.84907246 0.90896577 0.94978    0.9723879  1.027705  ]\n",
      "  [0.6534238  1.1959374  0.6959742  0.7872744  1.171809  ]\n",
      "  [0.7847387  0.95656157 0.9254155  0.918424   0.984402  ]]\n",
      "\n",
      " [[1.8290918  0.6523377  1.8780528  1.3109223  0.70115143]\n",
      "  [1.6101469  0.6905597  1.8482744  1.2546275  0.7136874 ]\n",
      "  [0.9857978  0.2493656  1.2595456  0.52826035 0.3376575 ]]\n",
      "\n",
      " [[1.9687196  1.6157736  1.3353362  1.5915698  1.5943623 ]\n",
      "  [0.76349056 0.6819997  0.46068287 0.46983606 0.5714561 ]\n",
      "  [1.7638627  1.1363859  0.94654536 1.1625464  1.0941944 ]]\n",
      "\n",
      " [[0.7608036  1.0938188  0.67650723 0.9293531  1.2842715 ]\n",
      "  [0.8049383  0.96446395 0.63151884 0.692428   1.2029881 ]\n",
      "  [1.7995855  1.6918119  1.2027966  0.9902636  2.2363071 ]]\n",
      "\n",
      " [[0.6782947  0.962617   1.1264491  0.6206496  0.858301  ]\n",
      "  [1.4955323  1.1147906  1.0930516  1.4777118  1.5300064 ]\n",
      "  [1.0424995  1.2464397  1.3765869  0.9865687  1.2259846 ]]\n",
      "\n",
      " [[1.0077785  1.3827263  0.8086371  1.1472502  1.531194  ]\n",
      "  [1.1723783  1.2624512  0.88027716 1.1969196  1.2384443 ]\n",
      "  [0.9092942  1.5197836  0.96036506 1.2719901  1.6622121 ]]\n",
      "\n",
      " [[1.3386104  1.7677943  0.8471578  2.277755   1.4071274 ]\n",
      "  [1.6358906  1.9247404  0.8074155  2.2926893  1.1189147 ]\n",
      "  [0.9251943  1.2867863  0.9811112  1.8556302  0.86581945]]\n",
      "\n",
      " [[0.87392974 0.928165   1.0058776  1.0718026  0.30844924]\n",
      "  [1.2822554  1.1806989  1.1305472  1.1942823  0.38472885]\n",
      "  [0.8513573  0.78798926 0.73293245 0.88934165 0.31225234]]\n",
      "\n",
      " [[1.5664864  1.345212   1.1782923  0.90133595 1.1058061 ]\n",
      "  [1.0590993  0.57388186 0.70891196 0.20393607 0.62233955]\n",
      "  [1.989379   1.0159271  1.6860788  0.85482645 1.6711137 ]]\n",
      "\n",
      " [[1.3399454  1.7077037  1.1241431  0.613921   1.5481105 ]\n",
      "  [0.6753862  1.2373037  0.71089333 0.3511469  1.2178676 ]\n",
      "  [1.1706241  1.8789878  1.061452   1.2661042  1.8180193 ]]\n",
      "\n",
      " [[0.78932095 1.0642713  1.397918   0.8145126  1.5746102 ]\n",
      "  [1.0897429  1.0699768  1.385659   1.1653783  1.8945075 ]\n",
      "  [0.23360813 0.2752796  0.38207573 0.25915015 0.46425408]]\n",
      "\n",
      " [[1.5340176  1.3207893  1.9761375  2.090953   1.0263939 ]\n",
      "  [0.5198958  0.50546557 0.95871407 0.89258456 0.3401655 ]\n",
      "  [1.0825053  1.1881849  1.2224121  1.5681696  0.7475834 ]]\n",
      "\n",
      " [[0.6224581  0.6322699  0.4283889  0.3744145  0.36352775]\n",
      "  [0.90458643 1.2479441  0.8719361  0.6952201  0.633218  ]\n",
      "  [0.47734708 0.55836445 0.39378315 0.32918602 0.31669557]]], shape=(32, 3, 5), dtype=float32)\n"
     ]
    }
   ],
   "source": [
    "batch = 32\n",
    "n = 3\n",
    "m = 4\n",
    "p = 5\n",
    "\n",
    "b1 = torch.rand((batch, n, m))\n",
    "b2 = torch.rand((batch, m, p))\n",
    "bres = torch.bmm(b1, b2)\n",
    "brestf = tf.matmul(b1, b2)\n",
    "print(bres)\n",
    "print()\n",
    "print(brestf)"
   ]
  },
  {
   "cell_type": "code",
   "execution_count": 104,
   "id": "e5ca9b23-9fc0-4e7c-8f1d-dc94feab8410",
   "metadata": {},
   "outputs": [
    {
     "name": "stdout",
     "output_type": "stream",
     "text": [
      "tensor([ 6, 15])\n",
      "\n",
      "tf.Tensor([ 6 15], shape=(2,), dtype=int64)\n"
     ]
    }
   ],
   "source": [
    "# Useful mathematical operations\n",
    "x = torch.tensor([[1,2,3], [4,5,6]])\n",
    "sumx = torch.sum(x, dim = 1)\n",
    "sumxtf = tf.reduce_sum(x, axis = 1)\n",
    "print(sumx)\n",
    "print()\n",
    "print(sumxtf)"
   ]
  },
  {
   "cell_type": "code",
   "execution_count": 110,
   "id": "48773580-a626-4d91-81d6-265fd40345b0",
   "metadata": {},
   "outputs": [
    {
     "name": "stdout",
     "output_type": "stream",
     "text": [
      "values: tensor([3, 6]) | indices: tensor([2, 2])\n",
      "v: tensor([1, 4]) | ind: tensor([0, 0])\n",
      "\n",
      "amin: tensor([0, 0])\n",
      "amax: tensor([2, 2])\n",
      "mean: tensor([2., 5.])\n"
     ]
    }
   ],
   "source": [
    "values, indices = torch.max(x, dim = 1)\n",
    "v, ind = torch.min(x, dim = 1)\n",
    "print(f\"values: {values} | indices: {indices}\")\n",
    "print(f\"v: {v} | ind: {ind}\")\n",
    "\n",
    "# Other operations:\n",
    "# abs = torch.abs(x)\n",
    "amin = torch.argmin(x, dim = 1)\n",
    "amax =  torch.argmax(x, dim = 1)\n",
    "mean = torch.mean(x.float(), dim = 1)\n",
    "print()\n",
    "print(f\"amin: {amin}\\namax: {amax}\")\n",
    "print(f\"mean: {mean}\")"
   ]
  },
  {
   "cell_type": "code",
   "execution_count": 121,
   "id": "08d0c96c-b0a0-4079-91bb-0005ed7c2246",
   "metadata": {},
   "outputs": [
    {
     "name": "stdout",
     "output_type": "stream",
     "text": [
      "tf.Tensor(1, shape=(), dtype=int64)\n",
      "tf.Tensor(6, shape=(), dtype=int64)\n",
      "tf.Tensor([2.5 3.5 4.5], shape=(3,), dtype=float32)\n",
      "tf.Tensor(\n",
      "[[1 2 3]\n",
      " [4 5 6]], shape=(2, 3), dtype=int64)\n",
      "tf.Tensor([0 0 0], shape=(3,), dtype=int64)\n",
      "tf.Tensor([1 1 1], shape=(3,), dtype=int64)\n"
     ]
    }
   ],
   "source": [
    "print(tf.reduce_min(x))\n",
    "print(tf.reduce_max(x))\n",
    "print(tf.reduce_mean(tf.cast(x, tf.float32), axis=0))\n",
    "print(tf.abs(x))\n",
    "print(tf.argmin(x))\n",
    "print(tf.argmax(x))"
   ]
  },
  {
   "cell_type": "code",
   "execution_count": 8,
   "id": "294ed28f-1198-4213-814b-87562868e8da",
   "metadata": {},
   "outputs": [
    {
     "name": "stdout",
     "output_type": "stream",
     "text": [
      "tensor([False, False, False])\n",
      "torch.return_types.sort(\n",
      "values=tensor([1, 2, 3]),\n",
      "indices=tensor([0, 2, 1]))\n",
      "tensor([0, 0, 0])\n",
      "\n",
      "tensor(True)\n",
      "tensor(False)\n"
     ]
    }
   ],
   "source": [
    "x = torch.tensor([1,3,2])\n",
    "y = torch.tensor([4,5,3])\n",
    "print(torch.eq(x,y))\n",
    "print(torch.sort(x, descending = False))\n",
    "print(torch.clamp(x, min = 0, max = 0))\n",
    "print()\n",
    "temp = torch.tensor([1,0,1,1,1], dtype = torch.bool)\n",
    "print(torch.any(temp))\n",
    "print(torch.all(temp))"
   ]
  },
  {
   "cell_type": "code",
   "execution_count": 15,
   "id": "53c0697a-e06b-4981-8473-dd0f2ad8c65d",
   "metadata": {},
   "outputs": [
    {
     "name": "stdout",
     "output_type": "stream",
     "text": [
      "tf.Tensor([1 2 3], shape=(3,), dtype=int32)\n",
      "tensor([1, 2, 3])\n"
     ]
    }
   ],
   "source": [
    "# Indexing in tensorflow vs torch\n",
    "temppt = torch.tensor([1,2,3,4,5,6])\n",
    "indicespt = torch.tensor([0,1,2])\n",
    "temptf = tf.constant([1,2,3,4,5,6])\n",
    "indicestf = tf.constant([0,1,2])\n",
    "print(tf.gather(temptf, indicestf))\n",
    "print(temppt[indicespt])"
   ]
  },
  {
   "cell_type": "code",
   "execution_count": 21,
   "id": "0c7dfab6-b4bd-4b2e-b0a6-b5df784e635c",
   "metadata": {},
   "outputs": [
    {
     "name": "stdout",
     "output_type": "stream",
     "text": [
      "tensor([4])\n",
      "tensor([ 2,  4,  6,  8, 10,  6])\n",
      "1\n",
      "tensor([1, 2, 3, 4, 5, 6])\n"
     ]
    }
   ],
   "source": [
    "print(temppt[(temppt>3) & (temppt<5)])\n",
    "print(torch.where(temppt > 5, temppt, temppt*2))\n",
    "print(temppt.ndimension())\n",
    "print(temppt.unique())"
   ]
  },
  {
   "cell_type": "code",
   "execution_count": 23,
   "id": "3608aa50-bfeb-47d7-8549-20ded4d6405e",
   "metadata": {},
   "outputs": [
    {
     "name": "stdout",
     "output_type": "stream",
     "text": [
      "x9: tensor([0, 1, 2, 3, 4, 5, 6, 7, 8]) | xview: tensor([[0, 1, 2],\n",
      "        [3, 4, 5],\n",
      "        [6, 7, 8]]) | xreshape: tensor([[0, 1, 2],\n",
      "        [3, 4, 5],\n",
      "        [6, 7, 8]])\n"
     ]
    }
   ],
   "source": [
    "# reshaping can be done either via view or reshape:\n",
    "x9 = torch.arange(9)\n",
    "xview = x9.view(3,3)\n",
    "xreshape = x9.reshape(3,3)\n",
    "print(f\"x9: {x9} | xview: {xview} | xreshape: {xreshape}\")"
   ]
  },
  {
   "cell_type": "code",
   "execution_count": 25,
   "id": "2feda2fa-4450-4517-ae96-fc58de55b8ac",
   "metadata": {},
   "outputs": [
    {
     "name": "stdout",
     "output_type": "stream",
     "text": [
      "tensor([[0, 3, 6],\n",
      "        [1, 4, 7],\n",
      "        [2, 5, 8]])\n",
      "\n",
      "tensor([0, 3, 6, 1, 4, 7, 2, 5, 8])\n"
     ]
    }
   ],
   "source": [
    "xview = xview.t()\n",
    "print(xview)\n",
    "print()\n",
    "# x.view(9) wont work because it is no longer contiguous\n",
    "xview = xview.contiguous().view(9)\n",
    "print(xview)"
   ]
  },
  {
   "cell_type": "code",
   "execution_count": 31,
   "id": "8fbb348f-dc3d-4909-9bcb-3248a7c54fb4",
   "metadata": {},
   "outputs": [
    {
     "name": "stdout",
     "output_type": "stream",
     "text": [
      "rand1: tensor([0.9551, 0.1579, 0.9410, 0.6440]) | rand2: tensor([0.9304, 0.9637, 0.6427, 0.0569])\n",
      "tensor([0.9551, 0.1579, 0.9410, 0.6440, 0.9304, 0.9637, 0.6427, 0.0569])\n",
      "\n",
      "original: tensor([[0.3277, 0.5907, 0.4608],\n",
      "        [0.3228, 0.4251, 0.1846],\n",
      "        [0.3911, 0.4714, 0.4477]])\n",
      "flattened: tensor([0.3277, 0.5907, 0.4608, 0.3228, 0.4251, 0.1846, 0.3911, 0.4714, 0.4477])\n"
     ]
    }
   ],
   "source": [
    "rand1 = torch.rand(4)\n",
    "rand2 = torch.rand(4)\n",
    "print(f\"rand1: {rand1} | rand2: {rand2}\")\n",
    "print(torch.cat((rand1, rand2), dim = 0))\n",
    "rand3 = torch.rand(3,3)\n",
    "print()\n",
    "print(f\"original: {rand3}\")\n",
    "print(f\"flattened: {rand3.view(-1)}\")"
   ]
  },
  {
   "cell_type": "code",
   "execution_count": 35,
   "id": "ea023636-19f3-4e20-946d-c3be7bed9866",
   "metadata": {},
   "outputs": [
    {
     "name": "stdout",
     "output_type": "stream",
     "text": [
      "torch.Size([64, 10])\n",
      "torch.Size([64, 2, 5])\n",
      "torch.Size([1, 64, 2, 5])\n",
      "torch.Size([64, 2, 5])\n"
     ]
    }
   ],
   "source": [
    "batch = 64\n",
    "rand4 = torch.rand(batch, 2, 5)\n",
    "print(rand4.view(batch, -1).shape)\n",
    "print(rand4.permute(0,1,2).shape)\n",
    "rand4 = rand4.unsqueeze(dim = 0)\n",
    "print(rand4.shape)\n",
    "rand4 = rand4.squeeze()\n",
    "print(rand4.shape)"
   ]
  }
 ],
 "metadata": {
  "kernelspec": {
   "display_name": "Python 3 (ipykernel)",
   "language": "python",
   "name": "python3"
  },
  "language_info": {
   "codemirror_mode": {
    "name": "ipython",
    "version": 3
   },
   "file_extension": ".py",
   "mimetype": "text/x-python",
   "name": "python",
   "nbconvert_exporter": "python",
   "pygments_lexer": "ipython3",
   "version": "3.10.0"
  }
 },
 "nbformat": 4,
 "nbformat_minor": 5
}
